{
  "nbformat": 4,
  "nbformat_minor": 0,
  "metadata": {
    "colab": {
      "name": "02)LazyText_Virus_NonVirus.ipynb",
      "provenance": [],
      "authorship_tag": "ABX9TyO/gPxzMivyAvKkWsUtKnbO",
      "include_colab_link": true
    },
    "kernelspec": {
      "name": "python3",
      "display_name": "Python 3"
    },
    "language_info": {
      "name": "python"
    },
    "widgets": {
      "application/vnd.jupyter.widget-state+json": {
        "59a553ab3e674c49a39060e2acaae147": {
          "model_module": "@jupyter-widgets/output",
          "model_name": "OutputModel",
          "model_module_version": "1.0.0",
          "state": {
            "_dom_classes": [],
            "_model_module": "@jupyter-widgets/output",
            "_model_module_version": "1.0.0",
            "_model_name": "OutputModel",
            "_view_count": null,
            "_view_module": "@jupyter-widgets/output",
            "_view_module_version": "1.0.0",
            "_view_name": "OutputView",
            "layout": "IPY_MODEL_29c8e1a3e1f04b499d220cdad43e5866",
            "msg_id": "",
            "outputs": [
              {
                "output_type": "display_data",
                "data": {
                  "text/plain": "Training... \u001b[38;2;114;156;31m━━━━━━━━━━━━━━━━━━━━━━━━━━━━━━━━━━━━━━━━\u001b[0m \u001b[35m100%\u001b[0m \u001b[36m0:00:00\u001b[0m\n",
                  "text/html": "<pre style=\"white-space:pre;overflow-x:auto;line-height:normal;font-family:Menlo,'DejaVu Sans Mono',consolas,'Courier New',monospace\">Training... <span style=\"color: #729c1f; text-decoration-color: #729c1f\">━━━━━━━━━━━━━━━━━━━━━━━━━━━━━━━━━━━━━━━━</span> <span style=\"color: #800080; text-decoration-color: #800080\">100%</span> <span style=\"color: #008080; text-decoration-color: #008080\">0:00:00</span>\n</pre>\n"
                },
                "metadata": {}
              }
            ]
          }
        },
        "29c8e1a3e1f04b499d220cdad43e5866": {
          "model_module": "@jupyter-widgets/base",
          "model_name": "LayoutModel",
          "model_module_version": "1.2.0",
          "state": {
            "_model_module": "@jupyter-widgets/base",
            "_model_module_version": "1.2.0",
            "_model_name": "LayoutModel",
            "_view_count": null,
            "_view_module": "@jupyter-widgets/base",
            "_view_module_version": "1.2.0",
            "_view_name": "LayoutView",
            "align_content": null,
            "align_items": null,
            "align_self": null,
            "border": null,
            "bottom": null,
            "display": null,
            "flex": null,
            "flex_flow": null,
            "grid_area": null,
            "grid_auto_columns": null,
            "grid_auto_flow": null,
            "grid_auto_rows": null,
            "grid_column": null,
            "grid_gap": null,
            "grid_row": null,
            "grid_template_areas": null,
            "grid_template_columns": null,
            "grid_template_rows": null,
            "height": null,
            "justify_content": null,
            "justify_items": null,
            "left": null,
            "margin": null,
            "max_height": null,
            "max_width": null,
            "min_height": null,
            "min_width": null,
            "object_fit": null,
            "object_position": null,
            "order": null,
            "overflow": null,
            "overflow_x": null,
            "overflow_y": null,
            "padding": null,
            "right": null,
            "top": null,
            "visibility": null,
            "width": null
          }
        }
      }
    }
  },
  "cells": [
    {
      "cell_type": "markdown",
      "metadata": {
        "id": "view-in-github",
        "colab_type": "text"
      },
      "source": [
        "<a href=\"https://colab.research.google.com/github/Naushad13b/Lazy/blob/LazyText/02)LazyText_Virus_NonVirus.ipynb\" target=\"_parent\"><img src=\"https://colab.research.google.com/assets/colab-badge.svg\" alt=\"Open In Colab\"/></a>"
      ]
    },
    {
      "cell_type": "code",
      "source": [
        "pip install lazytext"
      ],
      "metadata": {
        "colab": {
          "base_uri": "https://localhost:8080/"
        },
        "id": "QFuT_p49iGMf",
        "outputId": "1e59b0ea-65c9-454d-b365-402a976947f7"
      },
      "execution_count": null,
      "outputs": [
        {
          "output_type": "stream",
          "name": "stdout",
          "text": [
            "Looking in indexes: https://pypi.org/simple, https://us-python.pkg.dev/colab-wheels/public/simple/\n",
            "Collecting lazytext\n",
            "  Downloading lazytext-0.0.2-py2.py3-none-any.whl (9.8 kB)\n",
            "Requirement already satisfied: pandas==1.3.5 in /usr/local/lib/python3.7/dist-packages (from lazytext) (1.3.5)\n",
            "Collecting rich==11.2.0\n",
            "  Downloading rich-11.2.0-py3-none-any.whl (217 kB)\n",
            "\u001b[K     |████████████████████████████████| 217 kB 11.7 MB/s \n",
            "\u001b[?25hCollecting scikit-learn==1.0.1\n",
            "  Downloading scikit_learn-1.0.1-cp37-cp37m-manylinux_2_12_x86_64.manylinux2010_x86_64.whl (23.2 MB)\n",
            "\u001b[K     |████████████████████████████████| 23.2 MB 1.3 MB/s \n",
            "\u001b[?25hRequirement already satisfied: pytz>=2017.3 in /usr/local/lib/python3.7/dist-packages (from pandas==1.3.5->lazytext) (2022.1)\n",
            "Requirement already satisfied: python-dateutil>=2.7.3 in /usr/local/lib/python3.7/dist-packages (from pandas==1.3.5->lazytext) (2.8.2)\n",
            "Requirement already satisfied: numpy>=1.17.3 in /usr/local/lib/python3.7/dist-packages (from pandas==1.3.5->lazytext) (1.21.6)\n",
            "Requirement already satisfied: pygments<3.0.0,>=2.6.0 in /usr/local/lib/python3.7/dist-packages (from rich==11.2.0->lazytext) (2.6.1)\n",
            "Collecting colorama<0.5.0,>=0.4.0\n",
            "  Downloading colorama-0.4.5-py2.py3-none-any.whl (16 kB)\n",
            "Collecting commonmark<0.10.0,>=0.9.0\n",
            "  Downloading commonmark-0.9.1-py2.py3-none-any.whl (51 kB)\n",
            "\u001b[K     |████████████████████████████████| 51 kB 8.4 MB/s \n",
            "\u001b[?25hRequirement already satisfied: typing-extensions<5.0,>=3.7.4 in /usr/local/lib/python3.7/dist-packages (from rich==11.2.0->lazytext) (4.1.1)\n",
            "Requirement already satisfied: threadpoolctl>=2.0.0 in /usr/local/lib/python3.7/dist-packages (from scikit-learn==1.0.1->lazytext) (3.1.0)\n",
            "Requirement already satisfied: joblib>=0.11 in /usr/local/lib/python3.7/dist-packages (from scikit-learn==1.0.1->lazytext) (1.1.0)\n",
            "Requirement already satisfied: scipy>=1.1.0 in /usr/local/lib/python3.7/dist-packages (from scikit-learn==1.0.1->lazytext) (1.7.3)\n",
            "Requirement already satisfied: six>=1.5 in /usr/local/lib/python3.7/dist-packages (from python-dateutil>=2.7.3->pandas==1.3.5->lazytext) (1.15.0)\n",
            "Installing collected packages: commonmark, colorama, scikit-learn, rich, lazytext\n",
            "  Attempting uninstall: scikit-learn\n",
            "    Found existing installation: scikit-learn 1.0.2\n",
            "    Uninstalling scikit-learn-1.0.2:\n",
            "      Successfully uninstalled scikit-learn-1.0.2\n",
            "Successfully installed colorama-0.4.5 commonmark-0.9.1 lazytext-0.0.2 rich-11.2.0 scikit-learn-1.0.1\n"
          ]
        }
      ]
    },
    {
      "cell_type": "markdown",
      "source": [
        "Text classification on BBC News article classification."
      ],
      "metadata": {
        "id": "0uj6EVvpk3-l"
      }
    },
    {
      "cell_type": "code",
      "execution_count": null,
      "metadata": {
        "colab": {
          "base_uri": "https://localhost:8080/",
          "height": 1000,
          "referenced_widgets": [
            "59a553ab3e674c49a39060e2acaae147",
            "29c8e1a3e1f04b499d220cdad43e5866"
          ]
        },
        "id": "C55o-iHVh6BP",
        "outputId": "7d12478b-004a-4d04-9804-b3e5141d6eac"
      },
      "outputs": [
        {
          "output_type": "stream",
          "name": "stderr",
          "text": [
            "[nltk_data] Downloading package punkt to /root/nltk_data...\n",
            "[nltk_data]   Package punkt is already up-to-date!\n",
            "[nltk_data] Downloading package stopwords to /root/nltk_data...\n",
            "[nltk_data]   Package stopwords is already up-to-date!\n",
            "[nltk_data] Downloading package wordnet to /root/nltk_data...\n",
            "[nltk_data]   Package wordnet is already up-to-date!\n",
            "[nltk_data] Downloading package omw-1.4 to /root/nltk_data...\n",
            "[nltk_data]   Package omw-1.4 is already up-to-date!\n"
          ]
        },
        {
          "output_type": "display_data",
          "data": {
            "text/plain": [
              "Output()"
            ],
            "application/vnd.jupyter.widget-view+json": {
              "version_major": 2,
              "version_minor": 0,
              "model_id": "59a553ab3e674c49a39060e2acaae147"
            }
          },
          "metadata": {}
        },
        {
          "output_type": "display_data",
          "data": {
            "text/plain": [
              "  Training AdaBoostClassifier estimator\n"
            ],
            "text/html": [
              "<pre style=\"white-space:pre;overflow-x:auto;line-height:normal;font-family:Menlo,'DejaVu Sans Mono',consolas,'Courier New',monospace\">  Training AdaBoostClassifier estimator\n",
              "</pre>\n"
            ]
          },
          "metadata": {}
        },
        {
          "output_type": "display_data",
          "data": {
            "text/plain": [
              "  Training BaggingClassifier estimator\n"
            ],
            "text/html": [
              "<pre style=\"white-space:pre;overflow-x:auto;line-height:normal;font-family:Menlo,'DejaVu Sans Mono',consolas,'Courier New',monospace\">  Training BaggingClassifier estimator\n",
              "</pre>\n"
            ]
          },
          "metadata": {}
        },
        {
          "output_type": "display_data",
          "data": {
            "text/plain": [
              "  Training BernoulliNB estimator\n"
            ],
            "text/html": [
              "<pre style=\"white-space:pre;overflow-x:auto;line-height:normal;font-family:Menlo,'DejaVu Sans Mono',consolas,'Courier New',monospace\">  Training BernoulliNB estimator\n",
              "</pre>\n"
            ]
          },
          "metadata": {}
        },
        {
          "output_type": "display_data",
          "data": {
            "text/plain": [
              "  Training CalibratedClassifierCV estimator\n"
            ],
            "text/html": [
              "<pre style=\"white-space:pre;overflow-x:auto;line-height:normal;font-family:Menlo,'DejaVu Sans Mono',consolas,'Courier New',monospace\">  Training CalibratedClassifierCV estimator\n",
              "</pre>\n"
            ]
          },
          "metadata": {}
        },
        {
          "output_type": "display_data",
          "data": {
            "text/plain": [
              "  Training ComplementNB estimator\n"
            ],
            "text/html": [
              "<pre style=\"white-space:pre;overflow-x:auto;line-height:normal;font-family:Menlo,'DejaVu Sans Mono',consolas,'Courier New',monospace\">  Training ComplementNB estimator\n",
              "</pre>\n"
            ]
          },
          "metadata": {}
        },
        {
          "output_type": "display_data",
          "data": {
            "text/plain": [
              "  Training DecisionTreeClassifier estimator\n"
            ],
            "text/html": [
              "<pre style=\"white-space:pre;overflow-x:auto;line-height:normal;font-family:Menlo,'DejaVu Sans Mono',consolas,'Courier New',monospace\">  Training DecisionTreeClassifier estimator\n",
              "</pre>\n"
            ]
          },
          "metadata": {}
        },
        {
          "output_type": "display_data",
          "data": {
            "text/plain": [
              "  Training DummyClassifier estimator\n"
            ],
            "text/html": [
              "<pre style=\"white-space:pre;overflow-x:auto;line-height:normal;font-family:Menlo,'DejaVu Sans Mono',consolas,'Courier New',monospace\">  Training DummyClassifier estimator\n",
              "</pre>\n"
            ]
          },
          "metadata": {}
        },
        {
          "output_type": "display_data",
          "data": {
            "text/plain": [
              "  Training ExtraTreeClassifier estimator\n"
            ],
            "text/html": [
              "<pre style=\"white-space:pre;overflow-x:auto;line-height:normal;font-family:Menlo,'DejaVu Sans Mono',consolas,'Courier New',monospace\">  Training ExtraTreeClassifier estimator\n",
              "</pre>\n"
            ]
          },
          "metadata": {}
        },
        {
          "output_type": "display_data",
          "data": {
            "text/plain": [
              "  Training ExtraTreesClassifier estimator\n"
            ],
            "text/html": [
              "<pre style=\"white-space:pre;overflow-x:auto;line-height:normal;font-family:Menlo,'DejaVu Sans Mono',consolas,'Courier New',monospace\">  Training ExtraTreesClassifier estimator\n",
              "</pre>\n"
            ]
          },
          "metadata": {}
        },
        {
          "output_type": "display_data",
          "data": {
            "text/plain": [
              "  Training GradientBoostingClassifier estimator\n"
            ],
            "text/html": [
              "<pre style=\"white-space:pre;overflow-x:auto;line-height:normal;font-family:Menlo,'DejaVu Sans Mono',consolas,'Courier New',monospace\">  Training GradientBoostingClassifier estimator\n",
              "</pre>\n"
            ]
          },
          "metadata": {}
        },
        {
          "output_type": "display_data",
          "data": {
            "text/plain": [
              "  Training KNeighborsClassifier estimator\n"
            ],
            "text/html": [
              "<pre style=\"white-space:pre;overflow-x:auto;line-height:normal;font-family:Menlo,'DejaVu Sans Mono',consolas,'Courier New',monospace\">  Training KNeighborsClassifier estimator\n",
              "</pre>\n"
            ]
          },
          "metadata": {}
        },
        {
          "output_type": "display_data",
          "data": {
            "text/plain": [
              "  Training LinearSVC estimator\n"
            ],
            "text/html": [
              "<pre style=\"white-space:pre;overflow-x:auto;line-height:normal;font-family:Menlo,'DejaVu Sans Mono',consolas,'Courier New',monospace\">  Training LinearSVC estimator\n",
              "</pre>\n"
            ]
          },
          "metadata": {}
        },
        {
          "output_type": "display_data",
          "data": {
            "text/plain": [
              "  Training LogisticRegression estimator\n"
            ],
            "text/html": [
              "<pre style=\"white-space:pre;overflow-x:auto;line-height:normal;font-family:Menlo,'DejaVu Sans Mono',consolas,'Courier New',monospace\">  Training LogisticRegression estimator\n",
              "</pre>\n"
            ]
          },
          "metadata": {}
        },
        {
          "output_type": "display_data",
          "data": {
            "text/plain": [
              "  Training LogisticRegressionCV estimator\n"
            ],
            "text/html": [
              "<pre style=\"white-space:pre;overflow-x:auto;line-height:normal;font-family:Menlo,'DejaVu Sans Mono',consolas,'Courier New',monospace\">  Training LogisticRegressionCV estimator\n",
              "</pre>\n"
            ]
          },
          "metadata": {}
        },
        {
          "output_type": "display_data",
          "data": {
            "text/plain": [
              "  Training MLPClassifier estimator\n"
            ],
            "text/html": [
              "<pre style=\"white-space:pre;overflow-x:auto;line-height:normal;font-family:Menlo,'DejaVu Sans Mono',consolas,'Courier New',monospace\">  Training MLPClassifier estimator\n",
              "</pre>\n"
            ]
          },
          "metadata": {}
        },
        {
          "output_type": "display_data",
          "data": {
            "text/plain": [
              "  Training MultinomialNB estimator\n"
            ],
            "text/html": [
              "<pre style=\"white-space:pre;overflow-x:auto;line-height:normal;font-family:Menlo,'DejaVu Sans Mono',consolas,'Courier New',monospace\">  Training MultinomialNB estimator\n",
              "</pre>\n"
            ]
          },
          "metadata": {}
        },
        {
          "output_type": "display_data",
          "data": {
            "text/plain": [
              "  Training NearestCentroid estimator\n"
            ],
            "text/html": [
              "<pre style=\"white-space:pre;overflow-x:auto;line-height:normal;font-family:Menlo,'DejaVu Sans Mono',consolas,'Courier New',monospace\">  Training NearestCentroid estimator\n",
              "</pre>\n"
            ]
          },
          "metadata": {}
        },
        {
          "output_type": "display_data",
          "data": {
            "text/plain": [
              "  Training NuSVC estimator\n"
            ],
            "text/html": [
              "<pre style=\"white-space:pre;overflow-x:auto;line-height:normal;font-family:Menlo,'DejaVu Sans Mono',consolas,'Courier New',monospace\">  Training NuSVC estimator\n",
              "</pre>\n"
            ]
          },
          "metadata": {}
        },
        {
          "output_type": "display_data",
          "data": {
            "text/plain": [
              "  Training PassiveAggressiveClassifier estimator\n"
            ],
            "text/html": [
              "<pre style=\"white-space:pre;overflow-x:auto;line-height:normal;font-family:Menlo,'DejaVu Sans Mono',consolas,'Courier New',monospace\">  Training PassiveAggressiveClassifier estimator\n",
              "</pre>\n"
            ]
          },
          "metadata": {}
        },
        {
          "output_type": "display_data",
          "data": {
            "text/plain": [
              "  Training Perceptron estimator\n"
            ],
            "text/html": [
              "<pre style=\"white-space:pre;overflow-x:auto;line-height:normal;font-family:Menlo,'DejaVu Sans Mono',consolas,'Courier New',monospace\">  Training Perceptron estimator\n",
              "</pre>\n"
            ]
          },
          "metadata": {}
        },
        {
          "output_type": "display_data",
          "data": {
            "text/plain": [
              "  Training RandomForestClassifier estimator\n"
            ],
            "text/html": [
              "<pre style=\"white-space:pre;overflow-x:auto;line-height:normal;font-family:Menlo,'DejaVu Sans Mono',consolas,'Courier New',monospace\">  Training RandomForestClassifier estimator\n",
              "</pre>\n"
            ]
          },
          "metadata": {}
        },
        {
          "output_type": "display_data",
          "data": {
            "text/plain": [
              "  Training RidgeClassifier estimator\n"
            ],
            "text/html": [
              "<pre style=\"white-space:pre;overflow-x:auto;line-height:normal;font-family:Menlo,'DejaVu Sans Mono',consolas,'Courier New',monospace\">  Training RidgeClassifier estimator\n",
              "</pre>\n"
            ]
          },
          "metadata": {}
        },
        {
          "output_type": "display_data",
          "data": {
            "text/plain": [
              "  Training SGDClassifier estimator\n"
            ],
            "text/html": [
              "<pre style=\"white-space:pre;overflow-x:auto;line-height:normal;font-family:Menlo,'DejaVu Sans Mono',consolas,'Courier New',monospace\">  Training SGDClassifier estimator\n",
              "</pre>\n"
            ]
          },
          "metadata": {}
        },
        {
          "output_type": "display_data",
          "data": {
            "text/plain": [
              "  Training SVC estimator\n"
            ],
            "text/html": [
              "<pre style=\"white-space:pre;overflow-x:auto;line-height:normal;font-family:Menlo,'DejaVu Sans Mono',consolas,'Courier New',monospace\">  Training SVC estimator\n",
              "</pre>\n"
            ]
          },
          "metadata": {}
        },
        {
          "output_type": "display_data",
          "data": {
            "text/plain": [
              ""
            ],
            "text/html": [
              "<pre style=\"white-space:pre;overflow-x:auto;line-height:normal;font-family:Menlo,'DejaVu Sans Mono',consolas,'Courier New',monospace\"></pre>\n"
            ]
          },
          "metadata": {}
        },
        {
          "output_type": "display_data",
          "data": {
            "text/plain": [
              "\n"
            ],
            "text/html": [
              "<pre style=\"white-space:pre;overflow-x:auto;line-height:normal;font-family:Menlo,'DejaVu Sans Mono',consolas,'Courier New',monospace\">\n",
              "</pre>\n"
            ]
          },
          "metadata": {}
        },
        {
          "output_type": "display_data",
          "data": {
            "text/plain": [
              "\u001b[3m              Label Analysis               \u001b[0m\n",
              "┏━━━━━━━━━━━━━━━━━━━━┳━━━━━━━━━━━━━━━━━━━━┓\n",
              "┃\u001b[1m \u001b[0m\u001b[1mClasses           \u001b[0m\u001b[1m \u001b[0m┃\u001b[1m \u001b[0m\u001b[1mWeights           \u001b[0m\u001b[1m \u001b[0m┃\n",
              "┡━━━━━━━━━━━━━━━━━━━━╇━━━━━━━━━━━━━━━━━━━━┩\n",
              "│\u001b[36m \u001b[0m\u001b[36mzero virus        \u001b[0m\u001b[36m \u001b[0m│\u001b[35m \u001b[0m\u001b[35m1.0723905723905724\u001b[0m\u001b[35m \u001b[0m│\n",
              "│\u001b[36m \u001b[0m\u001b[36mtrojan            \u001b[0m\u001b[36m \u001b[0m│\u001b[35m \u001b[0m\u001b[35m1.1059027777777777\u001b[0m\u001b[35m \u001b[0m│\n",
              "│\u001b[36m \u001b[0m\u001b[36msafe              \u001b[0m\u001b[36m \u001b[0m│\u001b[35m \u001b[0m\u001b[35m1.0723905723905724\u001b[0m\u001b[35m \u001b[0m│\n",
              "│\u001b[36m \u001b[0m\u001b[36mworm              \u001b[0m\u001b[36m \u001b[0m│\u001b[35m \u001b[0m\u001b[35m0.9074074074074074\u001b[0m\u001b[35m \u001b[0m│\n",
              "│\u001b[36m \u001b[0m\u001b[36mphishing          \u001b[0m\u001b[36m \u001b[0m│\u001b[35m \u001b[0m\u001b[35m0.9074074074074074\u001b[0m\u001b[35m \u001b[0m│\n",
              "│\u001b[36m \u001b[0m\u001b[36mnovirus           \u001b[0m\u001b[36m \u001b[0m│\u001b[35m \u001b[0m\u001b[35m0.9312865497076024\u001b[0m\u001b[35m \u001b[0m│\n",
              "│\u001b[36m \u001b[0m\u001b[36mmalware           \u001b[0m\u001b[36m \u001b[0m│\u001b[35m \u001b[0m\u001b[35m0.9312865497076024\u001b[0m\u001b[35m \u001b[0m│\n",
              "│\u001b[36m \u001b[0m\u001b[36mscanned           \u001b[0m\u001b[36m \u001b[0m│\u001b[35m \u001b[0m\u001b[35m0.9074074074074074\u001b[0m\u001b[35m \u001b[0m│\n",
              "│\u001b[36m \u001b[0m\u001b[36mvirus free        \u001b[0m\u001b[36m \u001b[0m│\u001b[35m \u001b[0m\u001b[35m1.1059027777777777\u001b[0m\u001b[35m \u001b[0m│\n",
              "│\u001b[36m \u001b[0m\u001b[36madware            \u001b[0m\u001b[36m \u001b[0m│\u001b[35m \u001b[0m\u001b[35m1.0723905723905724\u001b[0m\u001b[35m \u001b[0m│\n",
              "│\u001b[36m \u001b[0m\u001b[36mnotdetected       \u001b[0m\u001b[36m \u001b[0m│\u001b[35m \u001b[0m\u001b[35m0.9312865497076024\u001b[0m\u001b[35m \u001b[0m│\n",
              "│\u001b[36m \u001b[0m\u001b[36mnotfound          \u001b[0m\u001b[36m \u001b[0m│\u001b[35m \u001b[0m\u001b[35m0.9312865497076024\u001b[0m\u001b[35m \u001b[0m│\n",
              "│\u001b[36m \u001b[0m\u001b[36mnothing suspicious\u001b[0m\u001b[36m \u001b[0m│\u001b[35m \u001b[0m\u001b[35m1.1059027777777777\u001b[0m\u001b[35m \u001b[0m│\n",
              "│\u001b[36m \u001b[0m\u001b[36mshell             \u001b[0m\u001b[36m \u001b[0m│\u001b[35m \u001b[0m\u001b[35m1.0723905723905724\u001b[0m\u001b[35m \u001b[0m│\n",
              "│\u001b[36m \u001b[0m\u001b[36mbackdoor          \u001b[0m\u001b[36m \u001b[0m│\u001b[35m \u001b[0m\u001b[35m1.1059027777777777\u001b[0m\u001b[35m \u001b[0m│\n",
              "│\u001b[36m \u001b[0m\u001b[36mransomware        \u001b[0m\u001b[36m \u001b[0m│\u001b[35m \u001b[0m\u001b[35m0.9312865497076024\u001b[0m\u001b[35m \u001b[0m│\n",
              "│\u001b[36m \u001b[0m\u001b[36mvirus             \u001b[0m\u001b[36m \u001b[0m│\u001b[35m \u001b[0m\u001b[35m1.1059027777777777\u001b[0m\u001b[35m \u001b[0m│\n",
              "│\u001b[36m \u001b[0m\u001b[36mnothing found     \u001b[0m\u001b[36m \u001b[0m│\u001b[35m \u001b[0m\u001b[35m0.9312865497076024\u001b[0m\u001b[35m \u001b[0m│\n",
              "└────────────────────┴────────────────────┘\n"
            ],
            "text/html": [
              "<pre style=\"white-space:pre;overflow-x:auto;line-height:normal;font-family:Menlo,'DejaVu Sans Mono',consolas,'Courier New',monospace\"><span style=\"font-style: italic\">              Label Analysis               </span>\n",
              "┏━━━━━━━━━━━━━━━━━━━━┳━━━━━━━━━━━━━━━━━━━━┓\n",
              "┃<span style=\"font-weight: bold\"> Classes            </span>┃<span style=\"font-weight: bold\"> Weights            </span>┃\n",
              "┡━━━━━━━━━━━━━━━━━━━━╇━━━━━━━━━━━━━━━━━━━━┩\n",
              "│<span style=\"color: #008080; text-decoration-color: #008080\"> zero virus         </span>│<span style=\"color: #800080; text-decoration-color: #800080\"> 1.0723905723905724 </span>│\n",
              "│<span style=\"color: #008080; text-decoration-color: #008080\"> trojan             </span>│<span style=\"color: #800080; text-decoration-color: #800080\"> 1.1059027777777777 </span>│\n",
              "│<span style=\"color: #008080; text-decoration-color: #008080\"> safe               </span>│<span style=\"color: #800080; text-decoration-color: #800080\"> 1.0723905723905724 </span>│\n",
              "│<span style=\"color: #008080; text-decoration-color: #008080\"> worm               </span>│<span style=\"color: #800080; text-decoration-color: #800080\"> 0.9074074074074074 </span>│\n",
              "│<span style=\"color: #008080; text-decoration-color: #008080\"> phishing           </span>│<span style=\"color: #800080; text-decoration-color: #800080\"> 0.9074074074074074 </span>│\n",
              "│<span style=\"color: #008080; text-decoration-color: #008080\"> novirus            </span>│<span style=\"color: #800080; text-decoration-color: #800080\"> 0.9312865497076024 </span>│\n",
              "│<span style=\"color: #008080; text-decoration-color: #008080\"> malware            </span>│<span style=\"color: #800080; text-decoration-color: #800080\"> 0.9312865497076024 </span>│\n",
              "│<span style=\"color: #008080; text-decoration-color: #008080\"> scanned            </span>│<span style=\"color: #800080; text-decoration-color: #800080\"> 0.9074074074074074 </span>│\n",
              "│<span style=\"color: #008080; text-decoration-color: #008080\"> virus free         </span>│<span style=\"color: #800080; text-decoration-color: #800080\"> 1.1059027777777777 </span>│\n",
              "│<span style=\"color: #008080; text-decoration-color: #008080\"> adware             </span>│<span style=\"color: #800080; text-decoration-color: #800080\"> 1.0723905723905724 </span>│\n",
              "│<span style=\"color: #008080; text-decoration-color: #008080\"> notdetected        </span>│<span style=\"color: #800080; text-decoration-color: #800080\"> 0.9312865497076024 </span>│\n",
              "│<span style=\"color: #008080; text-decoration-color: #008080\"> notfound           </span>│<span style=\"color: #800080; text-decoration-color: #800080\"> 0.9312865497076024 </span>│\n",
              "│<span style=\"color: #008080; text-decoration-color: #008080\"> nothing suspicious </span>│<span style=\"color: #800080; text-decoration-color: #800080\"> 1.1059027777777777 </span>│\n",
              "│<span style=\"color: #008080; text-decoration-color: #008080\"> shell              </span>│<span style=\"color: #800080; text-decoration-color: #800080\"> 1.0723905723905724 </span>│\n",
              "│<span style=\"color: #008080; text-decoration-color: #008080\"> backdoor           </span>│<span style=\"color: #800080; text-decoration-color: #800080\"> 1.1059027777777777 </span>│\n",
              "│<span style=\"color: #008080; text-decoration-color: #008080\"> ransomware         </span>│<span style=\"color: #800080; text-decoration-color: #800080\"> 0.9312865497076024 </span>│\n",
              "│<span style=\"color: #008080; text-decoration-color: #008080\"> virus              </span>│<span style=\"color: #800080; text-decoration-color: #800080\"> 1.1059027777777777 </span>│\n",
              "│<span style=\"color: #008080; text-decoration-color: #008080\"> nothing found      </span>│<span style=\"color: #800080; text-decoration-color: #800080\"> 0.9312865497076024 </span>│\n",
              "└────────────────────┴────────────────────┘\n",
              "</pre>\n"
            ]
          },
          "metadata": {}
        },
        {
          "output_type": "display_data",
          "data": {
            "text/plain": [
              "\u001b[3m                                       Result Analysis                                       \u001b[0m\n",
              "┏━━━━━━━━━━━━━━━━━━━━━━━━━━━┳━━━━━━━━━━━━━━━━━━━━┳━━━━━━━━━━━━━━━━━━━━┳━━━━━━━━━━━━━━━━━━━┳┳┓\n",
              "┃\u001b[1m \u001b[0m\u001b[1mModel                    \u001b[0m\u001b[1m \u001b[0m┃\u001b[1m \u001b[0m\u001b[1mAccuracy          \u001b[0m\u001b[1m \u001b[0m┃\u001b[1m \u001b[0m\u001b[1mBalanced Accuracy \u001b[0m\u001b[1m \u001b[0m┃\u001b[1m \u001b[0m\u001b[1mF1 Score         \u001b[0m\u001b[1m \u001b[0m┃┃┃\n",
              "┡━━━━━━━━━━━━━━━━━━━━━━━━━━━╇━━━━━━━━━━━━━━━━━━━━╇━━━━━━━━━━━━━━━━━━━━╇━━━━━━━━━━━━━━━━━━━╇╇┩\n",
              "│\u001b[36m \u001b[0m\u001b[36mAdaBoostClassifier       \u001b[0m\u001b[36m \u001b[0m│\u001b[35m \u001b[0m\u001b[35m0.046875          \u001b[0m\u001b[35m \u001b[0m│\u001b[32m \u001b[0m\u001b[32m0.088383838383838…\u001b[0m\u001b[32m \u001b[0m│\u001b[31m \u001b[0m\u001b[31m0.02173062957376…\u001b[0m\u001b[31m \u001b[0m│││\n",
              "│\u001b[36m \u001b[0m\u001b[36mBaggingClassifier        \u001b[0m\u001b[36m \u001b[0m│\u001b[35m \u001b[0m\u001b[35m0.046875          \u001b[0m\u001b[35m \u001b[0m│\u001b[32m \u001b[0m\u001b[32m0.049119399119399…\u001b[0m\u001b[32m \u001b[0m│\u001b[31m \u001b[0m\u001b[31m0.04169485261439…\u001b[0m\u001b[31m \u001b[0m│││\n",
              "│\u001b[36m \u001b[0m\u001b[36mBernoulliNB              \u001b[0m\u001b[36m \u001b[0m│\u001b[35m \u001b[0m\u001b[35m0.057291666666666…\u001b[0m\u001b[35m \u001b[0m│\u001b[32m \u001b[0m\u001b[32m0.077272727272727…\u001b[0m\u001b[32m \u001b[0m│\u001b[31m \u001b[0m\u001b[31m0.03741871642635…\u001b[0m\u001b[31m \u001b[0m│││\n",
              "│\u001b[36m \u001b[0m\u001b[36mCalibratedClassifierCV   \u001b[0m\u001b[36m \u001b[0m│\u001b[35m \u001b[0m\u001b[35m0.083333333333333…\u001b[0m\u001b[35m \u001b[0m│\u001b[32m \u001b[0m\u001b[32m0.088411896745230…\u001b[0m\u001b[32m \u001b[0m│\u001b[31m \u001b[0m\u001b[31m0.05825389938499…\u001b[0m\u001b[31m \u001b[0m│││\n",
              "│\u001b[36m \u001b[0m\u001b[36mComplementNB             \u001b[0m\u001b[36m \u001b[0m│\u001b[35m \u001b[0m\u001b[35m0.03125           \u001b[0m\u001b[35m \u001b[0m│\u001b[32m \u001b[0m\u001b[32m0.0344362427695761\u001b[0m\u001b[32m \u001b[0m│\u001b[31m \u001b[0m\u001b[31m0.02909884343542…\u001b[0m\u001b[31m \u001b[0m│││\n",
              "│\u001b[36m \u001b[0m\u001b[36mDecisionTreeClassifier   \u001b[0m\u001b[36m \u001b[0m│\u001b[35m \u001b[0m\u001b[35m0.057291666666666…\u001b[0m\u001b[35m \u001b[0m│\u001b[32m \u001b[0m\u001b[32m0.072867564534231…\u001b[0m\u001b[32m \u001b[0m│\u001b[31m \u001b[0m\u001b[31m0.06119768142125…\u001b[0m\u001b[31m \u001b[0m│││\n",
              "│\u001b[36m \u001b[0m\u001b[36mDummyClassifier          \u001b[0m\u001b[36m \u001b[0m│\u001b[35m \u001b[0m\u001b[35m0.052083333333333…\u001b[0m\u001b[35m \u001b[0m│\u001b[32m \u001b[0m\u001b[32m0.055555555555555…\u001b[0m\u001b[32m \u001b[0m│\u001b[31m \u001b[0m\u001b[31m0.00550055005500…\u001b[0m\u001b[31m \u001b[0m│││\n",
              "│\u001b[36m \u001b[0m\u001b[36mExtraTreeClassifier      \u001b[0m\u001b[36m \u001b[0m│\u001b[35m \u001b[0m\u001b[35m0.046875          \u001b[0m\u001b[35m \u001b[0m│\u001b[32m \u001b[0m\u001b[32m0.053151169817836…\u001b[0m\u001b[32m \u001b[0m│\u001b[31m \u001b[0m\u001b[31m0.04815082126319…\u001b[0m\u001b[31m \u001b[0m│││\n",
              "│\u001b[36m \u001b[0m\u001b[36mExtraTreesClassifier     \u001b[0m\u001b[36m \u001b[0m│\u001b[35m \u001b[0m\u001b[35m0.052083333333333…\u001b[0m\u001b[35m \u001b[0m│\u001b[32m \u001b[0m\u001b[32m0.057435465768799…\u001b[0m\u001b[32m \u001b[0m│\u001b[31m \u001b[0m\u001b[31m0.05033468931490…\u001b[0m\u001b[31m \u001b[0m│││\n",
              "│\u001b[36m \u001b[0m\u001b[36mGradientBoostingClassifi…\u001b[0m\u001b[36m \u001b[0m│\u001b[35m \u001b[0m\u001b[35m0.036458333333333…\u001b[0m\u001b[35m \u001b[0m│\u001b[32m \u001b[0m\u001b[32m0.041273849607182…\u001b[0m\u001b[32m \u001b[0m│\u001b[31m \u001b[0m\u001b[31m0.03618644427467…\u001b[0m\u001b[31m \u001b[0m│││\n",
              "│\u001b[36m \u001b[0m\u001b[36mKNeighborsClassifier     \u001b[0m\u001b[36m \u001b[0m│\u001b[35m \u001b[0m\u001b[35m0.0625            \u001b[0m\u001b[35m \u001b[0m│\u001b[32m \u001b[0m\u001b[32m0.055050505050505…\u001b[0m\u001b[32m \u001b[0m│\u001b[31m \u001b[0m\u001b[31m0.03314829327760…\u001b[0m\u001b[31m \u001b[0m│││\n",
              "│\u001b[36m \u001b[0m\u001b[36mLinearSVC                \u001b[0m\u001b[36m \u001b[0m│\u001b[35m \u001b[0m\u001b[35m0.052083333333333…\u001b[0m\u001b[35m \u001b[0m│\u001b[32m \u001b[0m\u001b[32m0.056658464991798…\u001b[0m\u001b[32m \u001b[0m│\u001b[31m \u001b[0m\u001b[31m0.04948305842207…\u001b[0m\u001b[31m \u001b[0m│││\n",
              "│\u001b[36m \u001b[0m\u001b[36mLogisticRegression       \u001b[0m\u001b[36m \u001b[0m│\u001b[35m \u001b[0m\u001b[35m0.036458333333333…\u001b[0m\u001b[35m \u001b[0m│\u001b[32m \u001b[0m\u001b[32m0.055162738496071…\u001b[0m\u001b[32m \u001b[0m│\u001b[31m \u001b[0m\u001b[31m0.03403748399211…\u001b[0m\u001b[31m \u001b[0m│││\n",
              "│\u001b[36m \u001b[0m\u001b[36mLogisticRegressionCV     \u001b[0m\u001b[36m \u001b[0m│\u001b[35m \u001b[0m\u001b[35m0.041666666666666…\u001b[0m\u001b[35m \u001b[0m│\u001b[32m \u001b[0m\u001b[32m0.073681257014590…\u001b[0m\u001b[32m \u001b[0m│\u001b[31m \u001b[0m\u001b[31m0.03329518783372…\u001b[0m\u001b[31m \u001b[0m│││\n",
              "│\u001b[36m \u001b[0m\u001b[36mMLPClassifier            \u001b[0m\u001b[36m \u001b[0m│\u001b[35m \u001b[0m\u001b[35m0.036458333333333…\u001b[0m\u001b[35m \u001b[0m│\u001b[32m \u001b[0m\u001b[32m0.039374514374514…\u001b[0m\u001b[32m \u001b[0m│\u001b[31m \u001b[0m\u001b[31m0.03474107591754…\u001b[0m\u001b[31m \u001b[0m│││\n",
              "│\u001b[36m \u001b[0m\u001b[36mMultinomialNB            \u001b[0m\u001b[36m \u001b[0m│\u001b[35m \u001b[0m\u001b[35m0.057291666666666…\u001b[0m\u001b[35m \u001b[0m│\u001b[32m \u001b[0m\u001b[32m0.076767676767676…\u001b[0m\u001b[32m \u001b[0m│\u001b[31m \u001b[0m\u001b[31m0.03384551495016…\u001b[0m\u001b[31m \u001b[0m│││\n",
              "│\u001b[36m \u001b[0m\u001b[36mNearestCentroid          \u001b[0m\u001b[36m \u001b[0m│\u001b[35m \u001b[0m\u001b[35m0.026041666666666…\u001b[0m\u001b[35m \u001b[0m│\u001b[32m \u001b[0m\u001b[32m0.029694379694379…\u001b[0m\u001b[32m \u001b[0m│\u001b[31m \u001b[0m\u001b[31m0.02458398083398…\u001b[0m\u001b[31m \u001b[0m│││\n",
              "│\u001b[36m \u001b[0m\u001b[36mNuSVC                    \u001b[0m\u001b[36m \u001b[0m│\u001b[35m \u001b[0m\u001b[35m0.03125           \u001b[0m\u001b[35m \u001b[0m│\u001b[32m \u001b[0m\u001b[32m0.048989898989898…\u001b[0m\u001b[32m \u001b[0m│\u001b[31m \u001b[0m\u001b[31m0.02508091270066…\u001b[0m\u001b[31m \u001b[0m│││\n",
              "│\u001b[36m \u001b[0m\u001b[36mPassiveAggressiveClassif…\u001b[0m\u001b[36m \u001b[0m│\u001b[35m \u001b[0m\u001b[35m0.041666666666666…\u001b[0m\u001b[35m \u001b[0m│\u001b[32m \u001b[0m\u001b[32m0.042637917637917…\u001b[0m\u001b[32m \u001b[0m│\u001b[31m \u001b[0m\u001b[31m0.03921404547672…\u001b[0m\u001b[31m \u001b[0m│││\n",
              "│\u001b[36m \u001b[0m\u001b[36mPerceptron               \u001b[0m\u001b[36m \u001b[0m│\u001b[35m \u001b[0m\u001b[35m0.015625          \u001b[0m\u001b[35m \u001b[0m│\u001b[32m \u001b[0m\u001b[32m0.019360269360269…\u001b[0m\u001b[32m \u001b[0m│\u001b[31m \u001b[0m\u001b[31m0.01441798941798…\u001b[0m\u001b[31m \u001b[0m│││\n",
              "│\u001b[36m \u001b[0m\u001b[36mRandomForestClassifier   \u001b[0m\u001b[36m \u001b[0m│\u001b[35m \u001b[0m\u001b[35m0.046875          \u001b[0m\u001b[35m \u001b[0m│\u001b[32m \u001b[0m\u001b[32m0.052805836139169…\u001b[0m\u001b[32m \u001b[0m│\u001b[31m \u001b[0m\u001b[31m0.04207562231012…\u001b[0m\u001b[31m \u001b[0m│││\n",
              "│\u001b[36m \u001b[0m\u001b[36mRidgeClassifier          \u001b[0m\u001b[36m \u001b[0m│\u001b[35m \u001b[0m\u001b[35m0.041666666666666…\u001b[0m\u001b[35m \u001b[0m│\u001b[32m \u001b[0m\u001b[32m0.045547353880687…\u001b[0m\u001b[32m \u001b[0m│\u001b[31m \u001b[0m\u001b[31m0.04521377076846…\u001b[0m\u001b[31m \u001b[0m│││\n",
              "│\u001b[36m \u001b[0m\u001b[36mSGDClassifier            \u001b[0m\u001b[36m \u001b[0m│\u001b[35m \u001b[0m\u001b[35m0.036458333333333…\u001b[0m\u001b[35m \u001b[0m│\u001b[32m \u001b[0m\u001b[32m0.040609082275748…\u001b[0m\u001b[32m \u001b[0m│\u001b[31m \u001b[0m\u001b[31m0.03372567882371…\u001b[0m\u001b[31m \u001b[0m│││\n",
              "│\u001b[36m \u001b[0m\u001b[36mSVC                      \u001b[0m\u001b[36m \u001b[0m│\u001b[35m \u001b[0m\u001b[35m0.041666666666666…\u001b[0m\u001b[35m \u001b[0m│\u001b[32m \u001b[0m\u001b[32m0.061223344556677…\u001b[0m\u001b[32m \u001b[0m│\u001b[31m \u001b[0m\u001b[31m0.03405192287238…\u001b[0m\u001b[31m \u001b[0m│││\n",
              "└───────────────────────────┴────────────────────┴────────────────────┴───────────────────┴┴┘\n"
            ],
            "text/html": [
              "<pre style=\"white-space:pre;overflow-x:auto;line-height:normal;font-family:Menlo,'DejaVu Sans Mono',consolas,'Courier New',monospace\"><span style=\"font-style: italic\">                                       Result Analysis                                       </span>\n",
              "┏━━━━━━━━━━━━━━━━━━━━━━━━━━━┳━━━━━━━━━━━━━━━━━━━━┳━━━━━━━━━━━━━━━━━━━━┳━━━━━━━━━━━━━━━━━━━┳┳┓\n",
              "┃<span style=\"font-weight: bold\"> Model                     </span>┃<span style=\"font-weight: bold\"> Accuracy           </span>┃<span style=\"font-weight: bold\"> Balanced Accuracy  </span>┃<span style=\"font-weight: bold\"> F1 Score          </span>┃<span style=\"font-weight: bold\"></span>┃<span style=\"font-weight: bold\"></span>┃\n",
              "┡━━━━━━━━━━━━━━━━━━━━━━━━━━━╇━━━━━━━━━━━━━━━━━━━━╇━━━━━━━━━━━━━━━━━━━━╇━━━━━━━━━━━━━━━━━━━╇╇┩\n",
              "│<span style=\"color: #008080; text-decoration-color: #008080\"> AdaBoostClassifier        </span>│<span style=\"color: #800080; text-decoration-color: #800080\"> 0.046875           </span>│<span style=\"color: #008000; text-decoration-color: #008000\"> 0.088383838383838… </span>│<span style=\"color: #800000; text-decoration-color: #800000\"> 0.02173062957376… </span>│<span style=\"color: #808000; text-decoration-color: #808000\"></span>│<span style=\"color: #c0c0c0; text-decoration-color: #c0c0c0\"></span>│\n",
              "│<span style=\"color: #008080; text-decoration-color: #008080\"> BaggingClassifier         </span>│<span style=\"color: #800080; text-decoration-color: #800080\"> 0.046875           </span>│<span style=\"color: #008000; text-decoration-color: #008000\"> 0.049119399119399… </span>│<span style=\"color: #800000; text-decoration-color: #800000\"> 0.04169485261439… </span>│<span style=\"color: #808000; text-decoration-color: #808000\"></span>│<span style=\"color: #c0c0c0; text-decoration-color: #c0c0c0\"></span>│\n",
              "│<span style=\"color: #008080; text-decoration-color: #008080\"> BernoulliNB               </span>│<span style=\"color: #800080; text-decoration-color: #800080\"> 0.057291666666666… </span>│<span style=\"color: #008000; text-decoration-color: #008000\"> 0.077272727272727… </span>│<span style=\"color: #800000; text-decoration-color: #800000\"> 0.03741871642635… </span>│<span style=\"color: #808000; text-decoration-color: #808000\"></span>│<span style=\"color: #c0c0c0; text-decoration-color: #c0c0c0\"></span>│\n",
              "│<span style=\"color: #008080; text-decoration-color: #008080\"> CalibratedClassifierCV    </span>│<span style=\"color: #800080; text-decoration-color: #800080\"> 0.083333333333333… </span>│<span style=\"color: #008000; text-decoration-color: #008000\"> 0.088411896745230… </span>│<span style=\"color: #800000; text-decoration-color: #800000\"> 0.05825389938499… </span>│<span style=\"color: #808000; text-decoration-color: #808000\"></span>│<span style=\"color: #c0c0c0; text-decoration-color: #c0c0c0\"></span>│\n",
              "│<span style=\"color: #008080; text-decoration-color: #008080\"> ComplementNB              </span>│<span style=\"color: #800080; text-decoration-color: #800080\"> 0.03125            </span>│<span style=\"color: #008000; text-decoration-color: #008000\"> 0.0344362427695761 </span>│<span style=\"color: #800000; text-decoration-color: #800000\"> 0.02909884343542… </span>│<span style=\"color: #808000; text-decoration-color: #808000\"></span>│<span style=\"color: #c0c0c0; text-decoration-color: #c0c0c0\"></span>│\n",
              "│<span style=\"color: #008080; text-decoration-color: #008080\"> DecisionTreeClassifier    </span>│<span style=\"color: #800080; text-decoration-color: #800080\"> 0.057291666666666… </span>│<span style=\"color: #008000; text-decoration-color: #008000\"> 0.072867564534231… </span>│<span style=\"color: #800000; text-decoration-color: #800000\"> 0.06119768142125… </span>│<span style=\"color: #808000; text-decoration-color: #808000\"></span>│<span style=\"color: #c0c0c0; text-decoration-color: #c0c0c0\"></span>│\n",
              "│<span style=\"color: #008080; text-decoration-color: #008080\"> DummyClassifier           </span>│<span style=\"color: #800080; text-decoration-color: #800080\"> 0.052083333333333… </span>│<span style=\"color: #008000; text-decoration-color: #008000\"> 0.055555555555555… </span>│<span style=\"color: #800000; text-decoration-color: #800000\"> 0.00550055005500… </span>│<span style=\"color: #808000; text-decoration-color: #808000\"></span>│<span style=\"color: #c0c0c0; text-decoration-color: #c0c0c0\"></span>│\n",
              "│<span style=\"color: #008080; text-decoration-color: #008080\"> ExtraTreeClassifier       </span>│<span style=\"color: #800080; text-decoration-color: #800080\"> 0.046875           </span>│<span style=\"color: #008000; text-decoration-color: #008000\"> 0.053151169817836… </span>│<span style=\"color: #800000; text-decoration-color: #800000\"> 0.04815082126319… </span>│<span style=\"color: #808000; text-decoration-color: #808000\"></span>│<span style=\"color: #c0c0c0; text-decoration-color: #c0c0c0\"></span>│\n",
              "│<span style=\"color: #008080; text-decoration-color: #008080\"> ExtraTreesClassifier      </span>│<span style=\"color: #800080; text-decoration-color: #800080\"> 0.052083333333333… </span>│<span style=\"color: #008000; text-decoration-color: #008000\"> 0.057435465768799… </span>│<span style=\"color: #800000; text-decoration-color: #800000\"> 0.05033468931490… </span>│<span style=\"color: #808000; text-decoration-color: #808000\"></span>│<span style=\"color: #c0c0c0; text-decoration-color: #c0c0c0\"></span>│\n",
              "│<span style=\"color: #008080; text-decoration-color: #008080\"> GradientBoostingClassifi… </span>│<span style=\"color: #800080; text-decoration-color: #800080\"> 0.036458333333333… </span>│<span style=\"color: #008000; text-decoration-color: #008000\"> 0.041273849607182… </span>│<span style=\"color: #800000; text-decoration-color: #800000\"> 0.03618644427467… </span>│<span style=\"color: #808000; text-decoration-color: #808000\"></span>│<span style=\"color: #c0c0c0; text-decoration-color: #c0c0c0\"></span>│\n",
              "│<span style=\"color: #008080; text-decoration-color: #008080\"> KNeighborsClassifier      </span>│<span style=\"color: #800080; text-decoration-color: #800080\"> 0.0625             </span>│<span style=\"color: #008000; text-decoration-color: #008000\"> 0.055050505050505… </span>│<span style=\"color: #800000; text-decoration-color: #800000\"> 0.03314829327760… </span>│<span style=\"color: #808000; text-decoration-color: #808000\"></span>│<span style=\"color: #c0c0c0; text-decoration-color: #c0c0c0\"></span>│\n",
              "│<span style=\"color: #008080; text-decoration-color: #008080\"> LinearSVC                 </span>│<span style=\"color: #800080; text-decoration-color: #800080\"> 0.052083333333333… </span>│<span style=\"color: #008000; text-decoration-color: #008000\"> 0.056658464991798… </span>│<span style=\"color: #800000; text-decoration-color: #800000\"> 0.04948305842207… </span>│<span style=\"color: #808000; text-decoration-color: #808000\"></span>│<span style=\"color: #c0c0c0; text-decoration-color: #c0c0c0\"></span>│\n",
              "│<span style=\"color: #008080; text-decoration-color: #008080\"> LogisticRegression        </span>│<span style=\"color: #800080; text-decoration-color: #800080\"> 0.036458333333333… </span>│<span style=\"color: #008000; text-decoration-color: #008000\"> 0.055162738496071… </span>│<span style=\"color: #800000; text-decoration-color: #800000\"> 0.03403748399211… </span>│<span style=\"color: #808000; text-decoration-color: #808000\"></span>│<span style=\"color: #c0c0c0; text-decoration-color: #c0c0c0\"></span>│\n",
              "│<span style=\"color: #008080; text-decoration-color: #008080\"> LogisticRegressionCV      </span>│<span style=\"color: #800080; text-decoration-color: #800080\"> 0.041666666666666… </span>│<span style=\"color: #008000; text-decoration-color: #008000\"> 0.073681257014590… </span>│<span style=\"color: #800000; text-decoration-color: #800000\"> 0.03329518783372… </span>│<span style=\"color: #808000; text-decoration-color: #808000\"></span>│<span style=\"color: #c0c0c0; text-decoration-color: #c0c0c0\"></span>│\n",
              "│<span style=\"color: #008080; text-decoration-color: #008080\"> MLPClassifier             </span>│<span style=\"color: #800080; text-decoration-color: #800080\"> 0.036458333333333… </span>│<span style=\"color: #008000; text-decoration-color: #008000\"> 0.039374514374514… </span>│<span style=\"color: #800000; text-decoration-color: #800000\"> 0.03474107591754… </span>│<span style=\"color: #808000; text-decoration-color: #808000\"></span>│<span style=\"color: #c0c0c0; text-decoration-color: #c0c0c0\"></span>│\n",
              "│<span style=\"color: #008080; text-decoration-color: #008080\"> MultinomialNB             </span>│<span style=\"color: #800080; text-decoration-color: #800080\"> 0.057291666666666… </span>│<span style=\"color: #008000; text-decoration-color: #008000\"> 0.076767676767676… </span>│<span style=\"color: #800000; text-decoration-color: #800000\"> 0.03384551495016… </span>│<span style=\"color: #808000; text-decoration-color: #808000\"></span>│<span style=\"color: #c0c0c0; text-decoration-color: #c0c0c0\"></span>│\n",
              "│<span style=\"color: #008080; text-decoration-color: #008080\"> NearestCentroid           </span>│<span style=\"color: #800080; text-decoration-color: #800080\"> 0.026041666666666… </span>│<span style=\"color: #008000; text-decoration-color: #008000\"> 0.029694379694379… </span>│<span style=\"color: #800000; text-decoration-color: #800000\"> 0.02458398083398… </span>│<span style=\"color: #808000; text-decoration-color: #808000\"></span>│<span style=\"color: #c0c0c0; text-decoration-color: #c0c0c0\"></span>│\n",
              "│<span style=\"color: #008080; text-decoration-color: #008080\"> NuSVC                     </span>│<span style=\"color: #800080; text-decoration-color: #800080\"> 0.03125            </span>│<span style=\"color: #008000; text-decoration-color: #008000\"> 0.048989898989898… </span>│<span style=\"color: #800000; text-decoration-color: #800000\"> 0.02508091270066… </span>│<span style=\"color: #808000; text-decoration-color: #808000\"></span>│<span style=\"color: #c0c0c0; text-decoration-color: #c0c0c0\"></span>│\n",
              "│<span style=\"color: #008080; text-decoration-color: #008080\"> PassiveAggressiveClassif… </span>│<span style=\"color: #800080; text-decoration-color: #800080\"> 0.041666666666666… </span>│<span style=\"color: #008000; text-decoration-color: #008000\"> 0.042637917637917… </span>│<span style=\"color: #800000; text-decoration-color: #800000\"> 0.03921404547672… </span>│<span style=\"color: #808000; text-decoration-color: #808000\"></span>│<span style=\"color: #c0c0c0; text-decoration-color: #c0c0c0\"></span>│\n",
              "│<span style=\"color: #008080; text-decoration-color: #008080\"> Perceptron                </span>│<span style=\"color: #800080; text-decoration-color: #800080\"> 0.015625           </span>│<span style=\"color: #008000; text-decoration-color: #008000\"> 0.019360269360269… </span>│<span style=\"color: #800000; text-decoration-color: #800000\"> 0.01441798941798… </span>│<span style=\"color: #808000; text-decoration-color: #808000\"></span>│<span style=\"color: #c0c0c0; text-decoration-color: #c0c0c0\"></span>│\n",
              "│<span style=\"color: #008080; text-decoration-color: #008080\"> RandomForestClassifier    </span>│<span style=\"color: #800080; text-decoration-color: #800080\"> 0.046875           </span>│<span style=\"color: #008000; text-decoration-color: #008000\"> 0.052805836139169… </span>│<span style=\"color: #800000; text-decoration-color: #800000\"> 0.04207562231012… </span>│<span style=\"color: #808000; text-decoration-color: #808000\"></span>│<span style=\"color: #c0c0c0; text-decoration-color: #c0c0c0\"></span>│\n",
              "│<span style=\"color: #008080; text-decoration-color: #008080\"> RidgeClassifier           </span>│<span style=\"color: #800080; text-decoration-color: #800080\"> 0.041666666666666… </span>│<span style=\"color: #008000; text-decoration-color: #008000\"> 0.045547353880687… </span>│<span style=\"color: #800000; text-decoration-color: #800000\"> 0.04521377076846… </span>│<span style=\"color: #808000; text-decoration-color: #808000\"></span>│<span style=\"color: #c0c0c0; text-decoration-color: #c0c0c0\"></span>│\n",
              "│<span style=\"color: #008080; text-decoration-color: #008080\"> SGDClassifier             </span>│<span style=\"color: #800080; text-decoration-color: #800080\"> 0.036458333333333… </span>│<span style=\"color: #008000; text-decoration-color: #008000\"> 0.040609082275748… </span>│<span style=\"color: #800000; text-decoration-color: #800000\"> 0.03372567882371… </span>│<span style=\"color: #808000; text-decoration-color: #808000\"></span>│<span style=\"color: #c0c0c0; text-decoration-color: #c0c0c0\"></span>│\n",
              "│<span style=\"color: #008080; text-decoration-color: #008080\"> SVC                       </span>│<span style=\"color: #800080; text-decoration-color: #800080\"> 0.041666666666666… </span>│<span style=\"color: #008000; text-decoration-color: #008000\"> 0.061223344556677… </span>│<span style=\"color: #800000; text-decoration-color: #800000\"> 0.03405192287238… </span>│<span style=\"color: #808000; text-decoration-color: #808000\"></span>│<span style=\"color: #c0c0c0; text-decoration-color: #c0c0c0\"></span>│\n",
              "└───────────────────────────┴────────────────────┴────────────────────┴───────────────────┴┴┘\n",
              "</pre>\n"
            ]
          },
          "metadata": {}
        }
      ],
      "source": [
        "import pandas as pd\n",
        "from sklearn.model_selection import train_test_split\n",
        "from sklearn.feature_extraction.text import TfidfVectorizer\n",
        "from lazytext.supervised import LazyTextPredict\n",
        "import re\n",
        "import nltk\n",
        "\n",
        "# Load the dataset\n",
        "df = pd.read_csv(\"/content/changedtext.csv\",encoding= 'unicode_escape')\n",
        "df.dropna(inplace=True)\n",
        "\n",
        "# Download models required for text cleaning\n",
        "nltk.download('punkt')\n",
        "nltk.download('stopwords')\n",
        "nltk.download('wordnet')\n",
        "nltk.download('omw-1.4')\n",
        "\n",
        "# split the data into train set and test set\n",
        "df_train, df_test = train_test_split(df, test_size=0.3, random_state=13)\n",
        "\n",
        "# Tokenize the words\n",
        "df_train['clean_text'] = df_train['text'].apply(nltk.word_tokenize)\n",
        "df_test['clean_text'] = df_test['text'].apply(nltk.word_tokenize)\n",
        "\n",
        "# Remove stop words\n",
        "stop_words=set(nltk.corpus.stopwords.words(\"english\"))\n",
        "df_train['text_clean'] = df_train['clean_text'].apply(lambda x: [item for item in x if item not in stop_words])\n",
        "df_test['text_clean'] = df_test['clean_text'].apply(lambda x: [item for item in x if item not in stop_words])\n",
        "\n",
        "# Remove numbers, punctuation and special characters (only keep words)\n",
        "regex = '[a-z]+'\n",
        "df_train['text_clean'] = df_train['text_clean'].apply(lambda x: [item for item in x if re.match(regex, item)])\n",
        "df_test['text_clean'] = df_test['text_clean'].apply(lambda x: [item for item in x if re.match(regex, item)])\n",
        "\n",
        "# Lemmatization\n",
        "lem = nltk.stem.wordnet.WordNetLemmatizer()\n",
        "df_train['text_clean'] = df_train['text_clean'].apply(lambda x: [lem.lemmatize(item, pos='v') for item in x])\n",
        "df_test['text_clean'] = df_test['text_clean'].apply(lambda x: [lem.lemmatize(item, pos='v') for item in x])\n",
        "\n",
        "# Join the words again to form sentences\n",
        "df_train[\"clean_text\"] = df_train.text_clean.apply(lambda x: \" \".join(x))\n",
        "df_test[\"clean_text\"] = df_test.text_clean.apply(lambda x: \" \".join(x))\n",
        "\n",
        "# Tfidf vectorization\n",
        "vectorizer = TfidfVectorizer()\n",
        "\n",
        "x_train = vectorizer.fit_transform(df_train.clean_text)\n",
        "x_test = vectorizer.transform(df_test.clean_text)\n",
        "y_train = df_train.category.tolist()\n",
        "y_test = df_test.category.tolist()\n",
        "\n",
        "lazy_text = LazyTextPredict(\n",
        "    classification_type=\"multiclass\",\n",
        "    )\n",
        "models = lazy_text.fit(x_train, x_test, y_train, y_test)\n",
        "\n",
        " "
      ]
    },
    {
      "cell_type": "code",
      "source": [
        ""
      ],
      "metadata": {
        "id": "PhGHIFxcEKy0"
      },
      "execution_count": null,
      "outputs": []
    }
  ]
}