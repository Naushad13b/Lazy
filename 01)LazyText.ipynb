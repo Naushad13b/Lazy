{
  "nbformat": 4,
  "nbformat_minor": 0,
  "metadata": {
    "colab": {
      "name": "01)LazyText.ipynb",
      "provenance": [],
      "authorship_tag": "ABX9TyNBRxxw/jDlV5JwHE2lh0tg",
      "include_colab_link": true
    },
    "kernelspec": {
      "name": "python3",
      "display_name": "Python 3"
    },
    "language_info": {
      "name": "python"
    },
    "widgets": {
      "application/vnd.jupyter.widget-state+json": {
        "8554bdddb3084245924f90554409552f": {
          "model_module": "@jupyter-widgets/output",
          "model_name": "OutputModel",
          "model_module_version": "1.0.0",
          "state": {
            "_dom_classes": [],
            "_model_module": "@jupyter-widgets/output",
            "_model_module_version": "1.0.0",
            "_model_name": "OutputModel",
            "_view_count": null,
            "_view_module": "@jupyter-widgets/output",
            "_view_module_version": "1.0.0",
            "_view_name": "OutputView",
            "layout": "IPY_MODEL_b89a1563e3fd4c4fb88c8d322ede3dd7",
            "msg_id": "",
            "outputs": [
              {
                "output_type": "display_data",
                "data": {
                  "text/plain": "Training... \u001b[38;2;114;156;31m━━━━━━━━━━━━━━━━━━━━━━━━━━━━━━━━━━━━━━━━\u001b[0m \u001b[35m100%\u001b[0m \u001b[36m0:00:00\u001b[0m\n",
                  "text/html": "<pre style=\"white-space:pre;overflow-x:auto;line-height:normal;font-family:Menlo,'DejaVu Sans Mono',consolas,'Courier New',monospace\">Training... <span style=\"color: #729c1f; text-decoration-color: #729c1f\">━━━━━━━━━━━━━━━━━━━━━━━━━━━━━━━━━━━━━━━━</span> <span style=\"color: #800080; text-decoration-color: #800080\">100%</span> <span style=\"color: #008080; text-decoration-color: #008080\">0:00:00</span>\n</pre>\n"
                },
                "metadata": {}
              }
            ]
          }
        },
        "b89a1563e3fd4c4fb88c8d322ede3dd7": {
          "model_module": "@jupyter-widgets/base",
          "model_name": "LayoutModel",
          "model_module_version": "1.2.0",
          "state": {
            "_model_module": "@jupyter-widgets/base",
            "_model_module_version": "1.2.0",
            "_model_name": "LayoutModel",
            "_view_count": null,
            "_view_module": "@jupyter-widgets/base",
            "_view_module_version": "1.2.0",
            "_view_name": "LayoutView",
            "align_content": null,
            "align_items": null,
            "align_self": null,
            "border": null,
            "bottom": null,
            "display": null,
            "flex": null,
            "flex_flow": null,
            "grid_area": null,
            "grid_auto_columns": null,
            "grid_auto_flow": null,
            "grid_auto_rows": null,
            "grid_column": null,
            "grid_gap": null,
            "grid_row": null,
            "grid_template_areas": null,
            "grid_template_columns": null,
            "grid_template_rows": null,
            "height": null,
            "justify_content": null,
            "justify_items": null,
            "left": null,
            "margin": null,
            "max_height": null,
            "max_width": null,
            "min_height": null,
            "min_width": null,
            "object_fit": null,
            "object_position": null,
            "order": null,
            "overflow": null,
            "overflow_x": null,
            "overflow_y": null,
            "padding": null,
            "right": null,
            "top": null,
            "visibility": null,
            "width": null
          }
        }
      }
    }
  },
  "cells": [
    {
      "cell_type": "markdown",
      "metadata": {
        "id": "view-in-github",
        "colab_type": "text"
      },
      "source": [
        "<a href=\"https://colab.research.google.com/github/Naushad13b/Lazy/blob/LazyText/01)LazyText.ipynb\" target=\"_parent\"><img src=\"https://colab.research.google.com/assets/colab-badge.svg\" alt=\"Open In Colab\"/></a>"
      ]
    },
    {
      "cell_type": "code",
      "source": [
        "pip install lazytext"
      ],
      "metadata": {
        "colab": {
          "base_uri": "https://localhost:8080/"
        },
        "id": "QFuT_p49iGMf",
        "outputId": "9d071d5e-08a4-47a7-ef02-9d5de264544b"
      },
      "execution_count": 1,
      "outputs": [
        {
          "output_type": "stream",
          "name": "stdout",
          "text": [
            "Looking in indexes: https://pypi.org/simple, https://us-python.pkg.dev/colab-wheels/public/simple/\n",
            "Collecting lazytext\n",
            "  Downloading lazytext-0.0.2-py2.py3-none-any.whl (9.8 kB)\n",
            "Requirement already satisfied: pandas==1.3.5 in /usr/local/lib/python3.7/dist-packages (from lazytext) (1.3.5)\n",
            "Collecting rich==11.2.0\n",
            "  Downloading rich-11.2.0-py3-none-any.whl (217 kB)\n",
            "\u001b[K     |████████████████████████████████| 217 kB 4.9 MB/s \n",
            "\u001b[?25hCollecting scikit-learn==1.0.1\n",
            "  Downloading scikit_learn-1.0.1-cp37-cp37m-manylinux_2_12_x86_64.manylinux2010_x86_64.whl (23.2 MB)\n",
            "\u001b[K     |████████████████████████████████| 23.2 MB 1.2 MB/s \n",
            "\u001b[?25hRequirement already satisfied: numpy>=1.17.3 in /usr/local/lib/python3.7/dist-packages (from pandas==1.3.5->lazytext) (1.21.6)\n",
            "Requirement already satisfied: python-dateutil>=2.7.3 in /usr/local/lib/python3.7/dist-packages (from pandas==1.3.5->lazytext) (2.8.2)\n",
            "Requirement already satisfied: pytz>=2017.3 in /usr/local/lib/python3.7/dist-packages (from pandas==1.3.5->lazytext) (2022.1)\n",
            "Requirement already satisfied: pygments<3.0.0,>=2.6.0 in /usr/local/lib/python3.7/dist-packages (from rich==11.2.0->lazytext) (2.6.1)\n",
            "Collecting commonmark<0.10.0,>=0.9.0\n",
            "  Downloading commonmark-0.9.1-py2.py3-none-any.whl (51 kB)\n",
            "\u001b[K     |████████████████████████████████| 51 kB 7.1 MB/s \n",
            "\u001b[?25hCollecting colorama<0.5.0,>=0.4.0\n",
            "  Downloading colorama-0.4.5-py2.py3-none-any.whl (16 kB)\n",
            "Requirement already satisfied: typing-extensions<5.0,>=3.7.4 in /usr/local/lib/python3.7/dist-packages (from rich==11.2.0->lazytext) (4.1.1)\n",
            "Requirement already satisfied: threadpoolctl>=2.0.0 in /usr/local/lib/python3.7/dist-packages (from scikit-learn==1.0.1->lazytext) (3.1.0)\n",
            "Requirement already satisfied: joblib>=0.11 in /usr/local/lib/python3.7/dist-packages (from scikit-learn==1.0.1->lazytext) (1.1.0)\n",
            "Requirement already satisfied: scipy>=1.1.0 in /usr/local/lib/python3.7/dist-packages (from scikit-learn==1.0.1->lazytext) (1.7.3)\n",
            "Requirement already satisfied: six>=1.5 in /usr/local/lib/python3.7/dist-packages (from python-dateutil>=2.7.3->pandas==1.3.5->lazytext) (1.15.0)\n",
            "Installing collected packages: commonmark, colorama, scikit-learn, rich, lazytext\n",
            "  Attempting uninstall: scikit-learn\n",
            "    Found existing installation: scikit-learn 1.0.2\n",
            "    Uninstalling scikit-learn-1.0.2:\n",
            "      Successfully uninstalled scikit-learn-1.0.2\n",
            "Successfully installed colorama-0.4.5 commonmark-0.9.1 lazytext-0.0.2 rich-11.2.0 scikit-learn-1.0.1\n"
          ]
        }
      ]
    },
    {
      "cell_type": "markdown",
      "source": [
        "Text classification on BBC News article classification."
      ],
      "metadata": {
        "id": "0uj6EVvpk3-l"
      }
    },
    {
      "cell_type": "code",
      "execution_count": 9,
      "metadata": {
        "colab": {
          "base_uri": "https://localhost:8080/",
          "height": 1000,
          "referenced_widgets": [
            "8554bdddb3084245924f90554409552f",
            "b89a1563e3fd4c4fb88c8d322ede3dd7"
          ]
        },
        "id": "C55o-iHVh6BP",
        "outputId": "e070622a-9e4b-4a3b-d72a-e0353cb8789b"
      },
      "outputs": [
        {
          "output_type": "stream",
          "name": "stderr",
          "text": [
            "[nltk_data] Downloading package punkt to /root/nltk_data...\n",
            "[nltk_data]   Package punkt is already up-to-date!\n",
            "[nltk_data] Downloading package stopwords to /root/nltk_data...\n",
            "[nltk_data]   Package stopwords is already up-to-date!\n",
            "[nltk_data] Downloading package wordnet to /root/nltk_data...\n",
            "[nltk_data]   Package wordnet is already up-to-date!\n",
            "[nltk_data] Downloading package omw-1.4 to /root/nltk_data...\n",
            "[nltk_data]   Package omw-1.4 is already up-to-date!\n"
          ]
        },
        {
          "output_type": "display_data",
          "data": {
            "text/plain": [
              "Output()"
            ],
            "application/vnd.jupyter.widget-view+json": {
              "version_major": 2,
              "version_minor": 0,
              "model_id": "8554bdddb3084245924f90554409552f"
            }
          },
          "metadata": {}
        },
        {
          "output_type": "display_data",
          "data": {
            "text/plain": [
              "  Training AdaBoostClassifier estimator\n"
            ],
            "text/html": [
              "<pre style=\"white-space:pre;overflow-x:auto;line-height:normal;font-family:Menlo,'DejaVu Sans Mono',consolas,'Courier New',monospace\">  Training AdaBoostClassifier estimator\n",
              "</pre>\n"
            ]
          },
          "metadata": {}
        },
        {
          "output_type": "display_data",
          "data": {
            "text/plain": [
              "  Training BaggingClassifier estimator\n"
            ],
            "text/html": [
              "<pre style=\"white-space:pre;overflow-x:auto;line-height:normal;font-family:Menlo,'DejaVu Sans Mono',consolas,'Courier New',monospace\">  Training BaggingClassifier estimator\n",
              "</pre>\n"
            ]
          },
          "metadata": {}
        },
        {
          "output_type": "display_data",
          "data": {
            "text/plain": [
              "  Training BernoulliNB estimator\n"
            ],
            "text/html": [
              "<pre style=\"white-space:pre;overflow-x:auto;line-height:normal;font-family:Menlo,'DejaVu Sans Mono',consolas,'Courier New',monospace\">  Training BernoulliNB estimator\n",
              "</pre>\n"
            ]
          },
          "metadata": {}
        },
        {
          "output_type": "display_data",
          "data": {
            "text/plain": [
              "  Training CalibratedClassifierCV estimator\n"
            ],
            "text/html": [
              "<pre style=\"white-space:pre;overflow-x:auto;line-height:normal;font-family:Menlo,'DejaVu Sans Mono',consolas,'Courier New',monospace\">  Training CalibratedClassifierCV estimator\n",
              "</pre>\n"
            ]
          },
          "metadata": {}
        },
        {
          "output_type": "display_data",
          "data": {
            "text/plain": [
              "  Training ComplementNB estimator\n"
            ],
            "text/html": [
              "<pre style=\"white-space:pre;overflow-x:auto;line-height:normal;font-family:Menlo,'DejaVu Sans Mono',consolas,'Courier New',monospace\">  Training ComplementNB estimator\n",
              "</pre>\n"
            ]
          },
          "metadata": {}
        },
        {
          "output_type": "display_data",
          "data": {
            "text/plain": [
              "  Training DecisionTreeClassifier estimator\n"
            ],
            "text/html": [
              "<pre style=\"white-space:pre;overflow-x:auto;line-height:normal;font-family:Menlo,'DejaVu Sans Mono',consolas,'Courier New',monospace\">  Training DecisionTreeClassifier estimator\n",
              "</pre>\n"
            ]
          },
          "metadata": {}
        },
        {
          "output_type": "display_data",
          "data": {
            "text/plain": [
              "  Training DummyClassifier estimator\n"
            ],
            "text/html": [
              "<pre style=\"white-space:pre;overflow-x:auto;line-height:normal;font-family:Menlo,'DejaVu Sans Mono',consolas,'Courier New',monospace\">  Training DummyClassifier estimator\n",
              "</pre>\n"
            ]
          },
          "metadata": {}
        },
        {
          "output_type": "display_data",
          "data": {
            "text/plain": [
              "  Training ExtraTreeClassifier estimator\n"
            ],
            "text/html": [
              "<pre style=\"white-space:pre;overflow-x:auto;line-height:normal;font-family:Menlo,'DejaVu Sans Mono',consolas,'Courier New',monospace\">  Training ExtraTreeClassifier estimator\n",
              "</pre>\n"
            ]
          },
          "metadata": {}
        },
        {
          "output_type": "display_data",
          "data": {
            "text/plain": [
              "  Training ExtraTreesClassifier estimator\n"
            ],
            "text/html": [
              "<pre style=\"white-space:pre;overflow-x:auto;line-height:normal;font-family:Menlo,'DejaVu Sans Mono',consolas,'Courier New',monospace\">  Training ExtraTreesClassifier estimator\n",
              "</pre>\n"
            ]
          },
          "metadata": {}
        },
        {
          "output_type": "display_data",
          "data": {
            "text/plain": [
              "  Training GradientBoostingClassifier estimator\n"
            ],
            "text/html": [
              "<pre style=\"white-space:pre;overflow-x:auto;line-height:normal;font-family:Menlo,'DejaVu Sans Mono',consolas,'Courier New',monospace\">  Training GradientBoostingClassifier estimator\n",
              "</pre>\n"
            ]
          },
          "metadata": {}
        },
        {
          "output_type": "display_data",
          "data": {
            "text/plain": [
              "  Training KNeighborsClassifier estimator\n"
            ],
            "text/html": [
              "<pre style=\"white-space:pre;overflow-x:auto;line-height:normal;font-family:Menlo,'DejaVu Sans Mono',consolas,'Courier New',monospace\">  Training KNeighborsClassifier estimator\n",
              "</pre>\n"
            ]
          },
          "metadata": {}
        },
        {
          "output_type": "display_data",
          "data": {
            "text/plain": [
              "  Training LinearSVC estimator\n"
            ],
            "text/html": [
              "<pre style=\"white-space:pre;overflow-x:auto;line-height:normal;font-family:Menlo,'DejaVu Sans Mono',consolas,'Courier New',monospace\">  Training LinearSVC estimator\n",
              "</pre>\n"
            ]
          },
          "metadata": {}
        },
        {
          "output_type": "display_data",
          "data": {
            "text/plain": [
              "  Training LogisticRegression estimator\n"
            ],
            "text/html": [
              "<pre style=\"white-space:pre;overflow-x:auto;line-height:normal;font-family:Menlo,'DejaVu Sans Mono',consolas,'Courier New',monospace\">  Training LogisticRegression estimator\n",
              "</pre>\n"
            ]
          },
          "metadata": {}
        },
        {
          "output_type": "display_data",
          "data": {
            "text/plain": [
              "  Training LogisticRegressionCV estimator\n"
            ],
            "text/html": [
              "<pre style=\"white-space:pre;overflow-x:auto;line-height:normal;font-family:Menlo,'DejaVu Sans Mono',consolas,'Courier New',monospace\">  Training LogisticRegressionCV estimator\n",
              "</pre>\n"
            ]
          },
          "metadata": {}
        },
        {
          "output_type": "display_data",
          "data": {
            "text/plain": [
              "  Training MLPClassifier estimator\n"
            ],
            "text/html": [
              "<pre style=\"white-space:pre;overflow-x:auto;line-height:normal;font-family:Menlo,'DejaVu Sans Mono',consolas,'Courier New',monospace\">  Training MLPClassifier estimator\n",
              "</pre>\n"
            ]
          },
          "metadata": {}
        },
        {
          "output_type": "display_data",
          "data": {
            "text/plain": [
              "  Training MultinomialNB estimator\n"
            ],
            "text/html": [
              "<pre style=\"white-space:pre;overflow-x:auto;line-height:normal;font-family:Menlo,'DejaVu Sans Mono',consolas,'Courier New',monospace\">  Training MultinomialNB estimator\n",
              "</pre>\n"
            ]
          },
          "metadata": {}
        },
        {
          "output_type": "display_data",
          "data": {
            "text/plain": [
              "  Training NearestCentroid estimator\n"
            ],
            "text/html": [
              "<pre style=\"white-space:pre;overflow-x:auto;line-height:normal;font-family:Menlo,'DejaVu Sans Mono',consolas,'Courier New',monospace\">  Training NearestCentroid estimator\n",
              "</pre>\n"
            ]
          },
          "metadata": {}
        },
        {
          "output_type": "display_data",
          "data": {
            "text/plain": [
              "  Training NuSVC estimator\n"
            ],
            "text/html": [
              "<pre style=\"white-space:pre;overflow-x:auto;line-height:normal;font-family:Menlo,'DejaVu Sans Mono',consolas,'Courier New',monospace\">  Training NuSVC estimator\n",
              "</pre>\n"
            ]
          },
          "metadata": {}
        },
        {
          "output_type": "display_data",
          "data": {
            "text/plain": [
              "  Training PassiveAggressiveClassifier estimator\n"
            ],
            "text/html": [
              "<pre style=\"white-space:pre;overflow-x:auto;line-height:normal;font-family:Menlo,'DejaVu Sans Mono',consolas,'Courier New',monospace\">  Training PassiveAggressiveClassifier estimator\n",
              "</pre>\n"
            ]
          },
          "metadata": {}
        },
        {
          "output_type": "display_data",
          "data": {
            "text/plain": [
              "  Training Perceptron estimator\n"
            ],
            "text/html": [
              "<pre style=\"white-space:pre;overflow-x:auto;line-height:normal;font-family:Menlo,'DejaVu Sans Mono',consolas,'Courier New',monospace\">  Training Perceptron estimator\n",
              "</pre>\n"
            ]
          },
          "metadata": {}
        },
        {
          "output_type": "display_data",
          "data": {
            "text/plain": [
              "  Training RandomForestClassifier estimator\n"
            ],
            "text/html": [
              "<pre style=\"white-space:pre;overflow-x:auto;line-height:normal;font-family:Menlo,'DejaVu Sans Mono',consolas,'Courier New',monospace\">  Training RandomForestClassifier estimator\n",
              "</pre>\n"
            ]
          },
          "metadata": {}
        },
        {
          "output_type": "display_data",
          "data": {
            "text/plain": [
              "  Training RidgeClassifier estimator\n"
            ],
            "text/html": [
              "<pre style=\"white-space:pre;overflow-x:auto;line-height:normal;font-family:Menlo,'DejaVu Sans Mono',consolas,'Courier New',monospace\">  Training RidgeClassifier estimator\n",
              "</pre>\n"
            ]
          },
          "metadata": {}
        },
        {
          "output_type": "display_data",
          "data": {
            "text/plain": [
              "  Training SGDClassifier estimator\n"
            ],
            "text/html": [
              "<pre style=\"white-space:pre;overflow-x:auto;line-height:normal;font-family:Menlo,'DejaVu Sans Mono',consolas,'Courier New',monospace\">  Training SGDClassifier estimator\n",
              "</pre>\n"
            ]
          },
          "metadata": {}
        },
        {
          "output_type": "display_data",
          "data": {
            "text/plain": [
              "  Training SVC estimator\n"
            ],
            "text/html": [
              "<pre style=\"white-space:pre;overflow-x:auto;line-height:normal;font-family:Menlo,'DejaVu Sans Mono',consolas,'Courier New',monospace\">  Training SVC estimator\n",
              "</pre>\n"
            ]
          },
          "metadata": {}
        },
        {
          "output_type": "display_data",
          "data": {
            "text/plain": [
              ""
            ],
            "text/html": [
              "<pre style=\"white-space:pre;overflow-x:auto;line-height:normal;font-family:Menlo,'DejaVu Sans Mono',consolas,'Courier New',monospace\"></pre>\n"
            ]
          },
          "metadata": {}
        },
        {
          "output_type": "display_data",
          "data": {
            "text/plain": [
              "\n"
            ],
            "text/html": [
              "<pre style=\"white-space:pre;overflow-x:auto;line-height:normal;font-family:Menlo,'DejaVu Sans Mono',consolas,'Courier New',monospace\">\n",
              "</pre>\n"
            ]
          },
          "metadata": {}
        },
        {
          "output_type": "display_data",
          "data": {
            "text/plain": [
              "\u001b[3m            Label Analysis            \u001b[0m\n",
              "┏━━━━━━━━━━━━━━━┳━━━━━━━━━━━━━━━━━━━━┓\n",
              "┃\u001b[1m \u001b[0m\u001b[1mClasses      \u001b[0m\u001b[1m \u001b[0m┃\u001b[1m \u001b[0m\u001b[1mWeights           \u001b[0m\u001b[1m \u001b[0m┃\n",
              "┡━━━━━━━━━━━━━━━╇━━━━━━━━━━━━━━━━━━━━┩\n",
              "│\u001b[36m \u001b[0m\u001b[36msport        \u001b[0m\u001b[36m \u001b[0m│\u001b[35m \u001b[0m\u001b[35m0.8725490196078431\u001b[0m\u001b[35m \u001b[0m│\n",
              "│\u001b[36m \u001b[0m\u001b[36mbusiness     \u001b[0m\u001b[36m \u001b[0m│\u001b[35m \u001b[0m\u001b[35m1.1528497409326426\u001b[0m\u001b[35m \u001b[0m│\n",
              "│\u001b[36m \u001b[0m\u001b[36mentertainment\u001b[0m\u001b[36m \u001b[0m│\u001b[35m \u001b[0m\u001b[35m1.0671462829736211\u001b[0m\u001b[35m \u001b[0m│\n",
              "│\u001b[36m \u001b[0m\u001b[36mpolitics     \u001b[0m\u001b[36m \u001b[0m│\u001b[35m \u001b[0m\u001b[35m0.8708414872798435\u001b[0m\u001b[35m \u001b[0m│\n",
              "│\u001b[36m \u001b[0m\u001b[36mtech         \u001b[0m\u001b[36m \u001b[0m│\u001b[35m \u001b[0m\u001b[35m1.1097256857855362\u001b[0m\u001b[35m \u001b[0m│\n",
              "└───────────────┴────────────────────┘\n"
            ],
            "text/html": [
              "<pre style=\"white-space:pre;overflow-x:auto;line-height:normal;font-family:Menlo,'DejaVu Sans Mono',consolas,'Courier New',monospace\"><span style=\"font-style: italic\">            Label Analysis            </span>\n",
              "┏━━━━━━━━━━━━━━━┳━━━━━━━━━━━━━━━━━━━━┓\n",
              "┃<span style=\"font-weight: bold\"> Classes       </span>┃<span style=\"font-weight: bold\"> Weights            </span>┃\n",
              "┡━━━━━━━━━━━━━━━╇━━━━━━━━━━━━━━━━━━━━┩\n",
              "│<span style=\"color: #008080; text-decoration-color: #008080\"> sport         </span>│<span style=\"color: #800080; text-decoration-color: #800080\"> 0.8725490196078431 </span>│\n",
              "│<span style=\"color: #008080; text-decoration-color: #008080\"> business      </span>│<span style=\"color: #800080; text-decoration-color: #800080\"> 1.1528497409326426 </span>│\n",
              "│<span style=\"color: #008080; text-decoration-color: #008080\"> entertainment </span>│<span style=\"color: #800080; text-decoration-color: #800080\"> 1.0671462829736211 </span>│\n",
              "│<span style=\"color: #008080; text-decoration-color: #008080\"> politics      </span>│<span style=\"color: #800080; text-decoration-color: #800080\"> 0.8708414872798435 </span>│\n",
              "│<span style=\"color: #008080; text-decoration-color: #008080\"> tech          </span>│<span style=\"color: #800080; text-decoration-color: #800080\"> 1.1097256857855362 </span>│\n",
              "└───────────────┴────────────────────┘\n",
              "</pre>\n"
            ]
          },
          "metadata": {}
        },
        {
          "output_type": "display_data",
          "data": {
            "text/plain": [
              "\u001b[3m                                       Result Analysis                                       \u001b[0m\n",
              "┏━━━━━━━━━━━━━━━━━━━━━━━━━━━━┳━━━━━━━━━━━━━━━━━━━┳━━━━━━━━━━━━━━━━━━━┳━━━━━━━━━━━━━━━━━━━━┳┳┓\n",
              "┃\u001b[1m \u001b[0m\u001b[1mModel                     \u001b[0m\u001b[1m \u001b[0m┃\u001b[1m \u001b[0m\u001b[1mAccuracy         \u001b[0m\u001b[1m \u001b[0m┃\u001b[1m \u001b[0m\u001b[1mBalanced Accuracy\u001b[0m\u001b[1m \u001b[0m┃\u001b[1m \u001b[0m\u001b[1mF1 Score          \u001b[0m\u001b[1m \u001b[0m┃┃┃\n",
              "┡━━━━━━━━━━━━━━━━━━━━━━━━━━━━╇━━━━━━━━━━━━━━━━━━━╇━━━━━━━━━━━━━━━━━━━╇━━━━━━━━━━━━━━━━━━━━╇╇┩\n",
              "│\u001b[36m \u001b[0m\u001b[36mAdaBoostClassifier        \u001b[0m\u001b[36m \u001b[0m│\u001b[35m \u001b[0m\u001b[35m0.72604790419161…\u001b[0m\u001b[35m \u001b[0m│\u001b[32m \u001b[0m\u001b[32m0.717737172132769\u001b[0m\u001b[32m \u001b[0m│\u001b[31m \u001b[0m\u001b[31m0.7248335989941609\u001b[0m\u001b[31m \u001b[0m│││\n",
              "│\u001b[36m \u001b[0m\u001b[36mBaggingClassifier         \u001b[0m\u001b[36m \u001b[0m│\u001b[35m \u001b[0m\u001b[35m0.88173652694610…\u001b[0m\u001b[35m \u001b[0m│\u001b[32m \u001b[0m\u001b[32m0.87966339623636…\u001b[0m\u001b[32m \u001b[0m│\u001b[31m \u001b[0m\u001b[31m0.8814695332332374\u001b[0m\u001b[31m \u001b[0m│││\n",
              "│\u001b[36m \u001b[0m\u001b[36mBernoulliNB               \u001b[0m\u001b[36m \u001b[0m│\u001b[35m \u001b[0m\u001b[35m0.95359281437125…\u001b[0m\u001b[35m \u001b[0m│\u001b[32m \u001b[0m\u001b[32m0.95059291934257…\u001b[0m\u001b[32m \u001b[0m│\u001b[31m \u001b[0m\u001b[31m0.9533647387436917\u001b[0m\u001b[31m \u001b[0m│││\n",
              "│\u001b[36m \u001b[0m\u001b[36mCalibratedClassifierCV    \u001b[0m\u001b[36m \u001b[0m│\u001b[35m \u001b[0m\u001b[35m0.97604790419161…\u001b[0m\u001b[35m \u001b[0m│\u001b[32m \u001b[0m\u001b[32m0.97600182203408…\u001b[0m\u001b[32m \u001b[0m│\u001b[31m \u001b[0m\u001b[31m0.9755904096436046\u001b[0m\u001b[31m \u001b[0m│││\n",
              "│\u001b[36m \u001b[0m\u001b[36mComplementNB              \u001b[0m\u001b[36m \u001b[0m│\u001b[35m \u001b[0m\u001b[35m0.97604790419161…\u001b[0m\u001b[35m \u001b[0m│\u001b[32m \u001b[0m\u001b[32m0.97523291925465…\u001b[0m\u001b[32m \u001b[0m│\u001b[31m \u001b[0m\u001b[31m0.9754237510855159\u001b[0m\u001b[31m \u001b[0m│││\n",
              "│\u001b[36m \u001b[0m\u001b[36mDecisionTreeClassifier    \u001b[0m\u001b[36m \u001b[0m│\u001b[35m \u001b[0m\u001b[35m0.85329341317365…\u001b[0m\u001b[35m \u001b[0m│\u001b[32m \u001b[0m\u001b[32m0.84739566711942…\u001b[0m\u001b[32m \u001b[0m│\u001b[31m \u001b[0m\u001b[31m0.8496464898940103\u001b[0m\u001b[31m \u001b[0m│││\n",
              "│\u001b[36m \u001b[0m\u001b[36mDummyClassifier           \u001b[0m\u001b[36m \u001b[0m│\u001b[35m \u001b[0m\u001b[35m0.21556886227544…\u001b[0m\u001b[35m \u001b[0m│\u001b[32m \u001b[0m\u001b[32m0.2              \u001b[0m\u001b[32m \u001b[0m│\u001b[31m \u001b[0m\u001b[31m0.070935960591133…\u001b[0m\u001b[31m \u001b[0m│││\n",
              "│\u001b[36m \u001b[0m\u001b[36mExtraTreeClassifier       \u001b[0m\u001b[36m \u001b[0m│\u001b[35m \u001b[0m\u001b[35m0.72754491017964…\u001b[0m\u001b[35m \u001b[0m│\u001b[32m \u001b[0m\u001b[32m0.72535184599086…\u001b[0m\u001b[32m \u001b[0m│\u001b[31m \u001b[0m\u001b[31m0.7255575847020816\u001b[0m\u001b[31m \u001b[0m│││\n",
              "│\u001b[36m \u001b[0m\u001b[36mExtraTreesClassifier      \u001b[0m\u001b[36m \u001b[0m│\u001b[35m \u001b[0m\u001b[35m0.96556886227544…\u001b[0m\u001b[35m \u001b[0m│\u001b[32m \u001b[0m\u001b[32m0.96353632859033…\u001b[0m\u001b[32m \u001b[0m│\u001b[31m \u001b[0m\u001b[31m0.9649837485086689\u001b[0m\u001b[31m \u001b[0m│││\n",
              "│\u001b[36m \u001b[0m\u001b[36mGradientBoostingClassifier\u001b[0m\u001b[36m \u001b[0m│\u001b[35m \u001b[0m\u001b[35m0.95658682634730…\u001b[0m\u001b[35m \u001b[0m│\u001b[32m \u001b[0m\u001b[32m0.95437251915443…\u001b[0m\u001b[32m \u001b[0m│\u001b[31m \u001b[0m\u001b[31m0.9554606292723953\u001b[0m\u001b[31m \u001b[0m│││\n",
              "│\u001b[36m \u001b[0m\u001b[36mKNeighborsClassifier      \u001b[0m\u001b[36m \u001b[0m│\u001b[35m \u001b[0m\u001b[35m0.938622754491018\u001b[0m\u001b[35m \u001b[0m│\u001b[32m \u001b[0m\u001b[32m0.93700536939598…\u001b[0m\u001b[32m \u001b[0m│\u001b[31m \u001b[0m\u001b[31m0.9367294513157219\u001b[0m\u001b[31m \u001b[0m│││\n",
              "│\u001b[36m \u001b[0m\u001b[36mLinearSVC                 \u001b[0m\u001b[36m \u001b[0m│\u001b[35m \u001b[0m\u001b[35m0.97455089820359…\u001b[0m\u001b[35m \u001b[0m│\u001b[32m \u001b[0m\u001b[32m0.974262691599302\u001b[0m\u001b[32m \u001b[0m│\u001b[31m \u001b[0m\u001b[31m0.9740343976103922\u001b[0m\u001b[31m \u001b[0m│││\n",
              "│\u001b[36m \u001b[0m\u001b[36mLogisticRegression        \u001b[0m\u001b[36m \u001b[0m│\u001b[35m \u001b[0m\u001b[35m0.968562874251497\u001b[0m\u001b[35m \u001b[0m│\u001b[32m \u001b[0m\u001b[32m0.96689958592132…\u001b[0m\u001b[32m \u001b[0m│\u001b[31m \u001b[0m\u001b[31m0.9678778814908909\u001b[0m\u001b[31m \u001b[0m│││\n",
              "│\u001b[36m \u001b[0m\u001b[36mLogisticRegressionCV      \u001b[0m\u001b[36m \u001b[0m│\u001b[35m \u001b[0m\u001b[35m0.97155688622754…\u001b[0m\u001b[35m \u001b[0m│\u001b[32m \u001b[0m\u001b[32m0.97088967572628…\u001b[0m\u001b[32m \u001b[0m│\u001b[31m \u001b[0m\u001b[31m0.971147482393915 \u001b[0m\u001b[31m \u001b[0m│││\n",
              "│\u001b[36m \u001b[0m\u001b[36mMLPClassifier             \u001b[0m\u001b[36m \u001b[0m│\u001b[35m \u001b[0m\u001b[35m0.97604790419161…\u001b[0m\u001b[35m \u001b[0m│\u001b[32m \u001b[0m\u001b[32m0.97533816425120…\u001b[0m\u001b[32m \u001b[0m│\u001b[31m \u001b[0m\u001b[31m0.9752912960666735\u001b[0m\u001b[31m \u001b[0m│││\n",
              "│\u001b[36m \u001b[0m\u001b[36mMultinomialNB             \u001b[0m\u001b[36m \u001b[0m│\u001b[35m \u001b[0m\u001b[35m0.97005988023952…\u001b[0m\u001b[35m \u001b[0m│\u001b[32m \u001b[0m\u001b[32m0.96787957211870…\u001b[0m\u001b[32m \u001b[0m│\u001b[31m \u001b[0m\u001b[31m0.9689200656860745\u001b[0m\u001b[31m \u001b[0m│││\n",
              "│\u001b[36m \u001b[0m\u001b[36mNearestCentroid           \u001b[0m\u001b[36m \u001b[0m│\u001b[35m \u001b[0m\u001b[35m0.95209580838323…\u001b[0m\u001b[35m \u001b[0m│\u001b[32m \u001b[0m\u001b[32m0.94990451354547…\u001b[0m\u001b[32m \u001b[0m│\u001b[31m \u001b[0m\u001b[31m0.9515097876015481\u001b[0m\u001b[31m \u001b[0m│││\n",
              "│\u001b[36m \u001b[0m\u001b[36mNuSVC                     \u001b[0m\u001b[36m \u001b[0m│\u001b[35m \u001b[0m\u001b[35m0.96706586826347…\u001b[0m\u001b[35m \u001b[0m│\u001b[32m \u001b[0m\u001b[32m0.96561594202898…\u001b[0m\u001b[32m \u001b[0m│\u001b[31m \u001b[0m\u001b[31m0.9669719954040374\u001b[0m\u001b[31m \u001b[0m│││\n",
              "│\u001b[36m \u001b[0m\u001b[36mPassiveAggressiveClassifi…\u001b[0m\u001b[36m \u001b[0m│\u001b[35m \u001b[0m\u001b[35m0.97754491017964…\u001b[0m\u001b[35m \u001b[0m│\u001b[32m \u001b[0m\u001b[32m0.97723888207549…\u001b[0m\u001b[32m \u001b[0m│\u001b[31m \u001b[0m\u001b[31m0.9770812340935414\u001b[0m\u001b[31m \u001b[0m│││\n",
              "│\u001b[36m \u001b[0m\u001b[36mPerceptron                \u001b[0m\u001b[36m \u001b[0m│\u001b[35m \u001b[0m\u001b[35m0.97754491017964…\u001b[0m\u001b[35m \u001b[0m│\u001b[32m \u001b[0m\u001b[32m0.97692546583850…\u001b[0m\u001b[32m \u001b[0m│\u001b[31m \u001b[0m\u001b[31m0.9768161404324825\u001b[0m\u001b[31m \u001b[0m│││\n",
              "│\u001b[36m \u001b[0m\u001b[36mRandomForestClassifier    \u001b[0m\u001b[36m \u001b[0m│\u001b[35m \u001b[0m\u001b[35m0.96257485029940…\u001b[0m\u001b[35m \u001b[0m│\u001b[32m \u001b[0m\u001b[32m0.96051355426320…\u001b[0m\u001b[32m \u001b[0m│\u001b[31m \u001b[0m\u001b[31m0.9624462948504477\u001b[0m\u001b[31m \u001b[0m│││\n",
              "│\u001b[36m \u001b[0m\u001b[36mRidgeClassifier           \u001b[0m\u001b[36m \u001b[0m│\u001b[35m \u001b[0m\u001b[35m0.97754491017964…\u001b[0m\u001b[35m \u001b[0m│\u001b[32m \u001b[0m\u001b[32m0.97692546583850…\u001b[0m\u001b[32m \u001b[0m│\u001b[31m \u001b[0m\u001b[31m0.9769176825464448\u001b[0m\u001b[31m \u001b[0m│││\n",
              "│\u001b[36m \u001b[0m\u001b[36mSGDClassifier             \u001b[0m\u001b[36m \u001b[0m│\u001b[35m \u001b[0m\u001b[35m0.97005988023952…\u001b[0m\u001b[35m \u001b[0m│\u001b[32m \u001b[0m\u001b[32m0.96950078683739…\u001b[0m\u001b[32m \u001b[0m│\u001b[31m \u001b[0m\u001b[31m0.969787370271274 \u001b[0m\u001b[31m \u001b[0m│││\n",
              "│\u001b[36m \u001b[0m\u001b[36mSVC                       \u001b[0m\u001b[36m \u001b[0m│\u001b[35m \u001b[0m\u001b[35m0.97155688622754…\u001b[0m\u001b[35m \u001b[0m│\u001b[32m \u001b[0m\u001b[32m0.97037784679089…\u001b[0m\u001b[32m \u001b[0m│\u001b[31m \u001b[0m\u001b[31m0.9713021262026043\u001b[0m\u001b[31m \u001b[0m│││\n",
              "└────────────────────────────┴───────────────────┴───────────────────┴────────────────────┴┴┘\n"
            ],
            "text/html": [
              "<pre style=\"white-space:pre;overflow-x:auto;line-height:normal;font-family:Menlo,'DejaVu Sans Mono',consolas,'Courier New',monospace\"><span style=\"font-style: italic\">                                       Result Analysis                                       </span>\n",
              "┏━━━━━━━━━━━━━━━━━━━━━━━━━━━━┳━━━━━━━━━━━━━━━━━━━┳━━━━━━━━━━━━━━━━━━━┳━━━━━━━━━━━━━━━━━━━━┳┳┓\n",
              "┃<span style=\"font-weight: bold\"> Model                      </span>┃<span style=\"font-weight: bold\"> Accuracy          </span>┃<span style=\"font-weight: bold\"> Balanced Accuracy </span>┃<span style=\"font-weight: bold\"> F1 Score           </span>┃<span style=\"font-weight: bold\"></span>┃<span style=\"font-weight: bold\"></span>┃\n",
              "┡━━━━━━━━━━━━━━━━━━━━━━━━━━━━╇━━━━━━━━━━━━━━━━━━━╇━━━━━━━━━━━━━━━━━━━╇━━━━━━━━━━━━━━━━━━━━╇╇┩\n",
              "│<span style=\"color: #008080; text-decoration-color: #008080\"> AdaBoostClassifier         </span>│<span style=\"color: #800080; text-decoration-color: #800080\"> 0.72604790419161… </span>│<span style=\"color: #008000; text-decoration-color: #008000\"> 0.717737172132769 </span>│<span style=\"color: #800000; text-decoration-color: #800000\"> 0.7248335989941609 </span>│<span style=\"color: #808000; text-decoration-color: #808000\"></span>│<span style=\"color: #c0c0c0; text-decoration-color: #c0c0c0\"></span>│\n",
              "│<span style=\"color: #008080; text-decoration-color: #008080\"> BaggingClassifier          </span>│<span style=\"color: #800080; text-decoration-color: #800080\"> 0.88173652694610… </span>│<span style=\"color: #008000; text-decoration-color: #008000\"> 0.87966339623636… </span>│<span style=\"color: #800000; text-decoration-color: #800000\"> 0.8814695332332374 </span>│<span style=\"color: #808000; text-decoration-color: #808000\"></span>│<span style=\"color: #c0c0c0; text-decoration-color: #c0c0c0\"></span>│\n",
              "│<span style=\"color: #008080; text-decoration-color: #008080\"> BernoulliNB                </span>│<span style=\"color: #800080; text-decoration-color: #800080\"> 0.95359281437125… </span>│<span style=\"color: #008000; text-decoration-color: #008000\"> 0.95059291934257… </span>│<span style=\"color: #800000; text-decoration-color: #800000\"> 0.9533647387436917 </span>│<span style=\"color: #808000; text-decoration-color: #808000\"></span>│<span style=\"color: #c0c0c0; text-decoration-color: #c0c0c0\"></span>│\n",
              "│<span style=\"color: #008080; text-decoration-color: #008080\"> CalibratedClassifierCV     </span>│<span style=\"color: #800080; text-decoration-color: #800080\"> 0.97604790419161… </span>│<span style=\"color: #008000; text-decoration-color: #008000\"> 0.97600182203408… </span>│<span style=\"color: #800000; text-decoration-color: #800000\"> 0.9755904096436046 </span>│<span style=\"color: #808000; text-decoration-color: #808000\"></span>│<span style=\"color: #c0c0c0; text-decoration-color: #c0c0c0\"></span>│\n",
              "│<span style=\"color: #008080; text-decoration-color: #008080\"> ComplementNB               </span>│<span style=\"color: #800080; text-decoration-color: #800080\"> 0.97604790419161… </span>│<span style=\"color: #008000; text-decoration-color: #008000\"> 0.97523291925465… </span>│<span style=\"color: #800000; text-decoration-color: #800000\"> 0.9754237510855159 </span>│<span style=\"color: #808000; text-decoration-color: #808000\"></span>│<span style=\"color: #c0c0c0; text-decoration-color: #c0c0c0\"></span>│\n",
              "│<span style=\"color: #008080; text-decoration-color: #008080\"> DecisionTreeClassifier     </span>│<span style=\"color: #800080; text-decoration-color: #800080\"> 0.85329341317365… </span>│<span style=\"color: #008000; text-decoration-color: #008000\"> 0.84739566711942… </span>│<span style=\"color: #800000; text-decoration-color: #800000\"> 0.8496464898940103 </span>│<span style=\"color: #808000; text-decoration-color: #808000\"></span>│<span style=\"color: #c0c0c0; text-decoration-color: #c0c0c0\"></span>│\n",
              "│<span style=\"color: #008080; text-decoration-color: #008080\"> DummyClassifier            </span>│<span style=\"color: #800080; text-decoration-color: #800080\"> 0.21556886227544… </span>│<span style=\"color: #008000; text-decoration-color: #008000\"> 0.2               </span>│<span style=\"color: #800000; text-decoration-color: #800000\"> 0.070935960591133… </span>│<span style=\"color: #808000; text-decoration-color: #808000\"></span>│<span style=\"color: #c0c0c0; text-decoration-color: #c0c0c0\"></span>│\n",
              "│<span style=\"color: #008080; text-decoration-color: #008080\"> ExtraTreeClassifier        </span>│<span style=\"color: #800080; text-decoration-color: #800080\"> 0.72754491017964… </span>│<span style=\"color: #008000; text-decoration-color: #008000\"> 0.72535184599086… </span>│<span style=\"color: #800000; text-decoration-color: #800000\"> 0.7255575847020816 </span>│<span style=\"color: #808000; text-decoration-color: #808000\"></span>│<span style=\"color: #c0c0c0; text-decoration-color: #c0c0c0\"></span>│\n",
              "│<span style=\"color: #008080; text-decoration-color: #008080\"> ExtraTreesClassifier       </span>│<span style=\"color: #800080; text-decoration-color: #800080\"> 0.96556886227544… </span>│<span style=\"color: #008000; text-decoration-color: #008000\"> 0.96353632859033… </span>│<span style=\"color: #800000; text-decoration-color: #800000\"> 0.9649837485086689 </span>│<span style=\"color: #808000; text-decoration-color: #808000\"></span>│<span style=\"color: #c0c0c0; text-decoration-color: #c0c0c0\"></span>│\n",
              "│<span style=\"color: #008080; text-decoration-color: #008080\"> GradientBoostingClassifier </span>│<span style=\"color: #800080; text-decoration-color: #800080\"> 0.95658682634730… </span>│<span style=\"color: #008000; text-decoration-color: #008000\"> 0.95437251915443… </span>│<span style=\"color: #800000; text-decoration-color: #800000\"> 0.9554606292723953 </span>│<span style=\"color: #808000; text-decoration-color: #808000\"></span>│<span style=\"color: #c0c0c0; text-decoration-color: #c0c0c0\"></span>│\n",
              "│<span style=\"color: #008080; text-decoration-color: #008080\"> KNeighborsClassifier       </span>│<span style=\"color: #800080; text-decoration-color: #800080\"> 0.938622754491018 </span>│<span style=\"color: #008000; text-decoration-color: #008000\"> 0.93700536939598… </span>│<span style=\"color: #800000; text-decoration-color: #800000\"> 0.9367294513157219 </span>│<span style=\"color: #808000; text-decoration-color: #808000\"></span>│<span style=\"color: #c0c0c0; text-decoration-color: #c0c0c0\"></span>│\n",
              "│<span style=\"color: #008080; text-decoration-color: #008080\"> LinearSVC                  </span>│<span style=\"color: #800080; text-decoration-color: #800080\"> 0.97455089820359… </span>│<span style=\"color: #008000; text-decoration-color: #008000\"> 0.974262691599302 </span>│<span style=\"color: #800000; text-decoration-color: #800000\"> 0.9740343976103922 </span>│<span style=\"color: #808000; text-decoration-color: #808000\"></span>│<span style=\"color: #c0c0c0; text-decoration-color: #c0c0c0\"></span>│\n",
              "│<span style=\"color: #008080; text-decoration-color: #008080\"> LogisticRegression         </span>│<span style=\"color: #800080; text-decoration-color: #800080\"> 0.968562874251497 </span>│<span style=\"color: #008000; text-decoration-color: #008000\"> 0.96689958592132… </span>│<span style=\"color: #800000; text-decoration-color: #800000\"> 0.9678778814908909 </span>│<span style=\"color: #808000; text-decoration-color: #808000\"></span>│<span style=\"color: #c0c0c0; text-decoration-color: #c0c0c0\"></span>│\n",
              "│<span style=\"color: #008080; text-decoration-color: #008080\"> LogisticRegressionCV       </span>│<span style=\"color: #800080; text-decoration-color: #800080\"> 0.97155688622754… </span>│<span style=\"color: #008000; text-decoration-color: #008000\"> 0.97088967572628… </span>│<span style=\"color: #800000; text-decoration-color: #800000\"> 0.971147482393915  </span>│<span style=\"color: #808000; text-decoration-color: #808000\"></span>│<span style=\"color: #c0c0c0; text-decoration-color: #c0c0c0\"></span>│\n",
              "│<span style=\"color: #008080; text-decoration-color: #008080\"> MLPClassifier              </span>│<span style=\"color: #800080; text-decoration-color: #800080\"> 0.97604790419161… </span>│<span style=\"color: #008000; text-decoration-color: #008000\"> 0.97533816425120… </span>│<span style=\"color: #800000; text-decoration-color: #800000\"> 0.9752912960666735 </span>│<span style=\"color: #808000; text-decoration-color: #808000\"></span>│<span style=\"color: #c0c0c0; text-decoration-color: #c0c0c0\"></span>│\n",
              "│<span style=\"color: #008080; text-decoration-color: #008080\"> MultinomialNB              </span>│<span style=\"color: #800080; text-decoration-color: #800080\"> 0.97005988023952… </span>│<span style=\"color: #008000; text-decoration-color: #008000\"> 0.96787957211870… </span>│<span style=\"color: #800000; text-decoration-color: #800000\"> 0.9689200656860745 </span>│<span style=\"color: #808000; text-decoration-color: #808000\"></span>│<span style=\"color: #c0c0c0; text-decoration-color: #c0c0c0\"></span>│\n",
              "│<span style=\"color: #008080; text-decoration-color: #008080\"> NearestCentroid            </span>│<span style=\"color: #800080; text-decoration-color: #800080\"> 0.95209580838323… </span>│<span style=\"color: #008000; text-decoration-color: #008000\"> 0.94990451354547… </span>│<span style=\"color: #800000; text-decoration-color: #800000\"> 0.9515097876015481 </span>│<span style=\"color: #808000; text-decoration-color: #808000\"></span>│<span style=\"color: #c0c0c0; text-decoration-color: #c0c0c0\"></span>│\n",
              "│<span style=\"color: #008080; text-decoration-color: #008080\"> NuSVC                      </span>│<span style=\"color: #800080; text-decoration-color: #800080\"> 0.96706586826347… </span>│<span style=\"color: #008000; text-decoration-color: #008000\"> 0.96561594202898… </span>│<span style=\"color: #800000; text-decoration-color: #800000\"> 0.9669719954040374 </span>│<span style=\"color: #808000; text-decoration-color: #808000\"></span>│<span style=\"color: #c0c0c0; text-decoration-color: #c0c0c0\"></span>│\n",
              "│<span style=\"color: #008080; text-decoration-color: #008080\"> PassiveAggressiveClassifi… </span>│<span style=\"color: #800080; text-decoration-color: #800080\"> 0.97754491017964… </span>│<span style=\"color: #008000; text-decoration-color: #008000\"> 0.97723888207549… </span>│<span style=\"color: #800000; text-decoration-color: #800000\"> 0.9770812340935414 </span>│<span style=\"color: #808000; text-decoration-color: #808000\"></span>│<span style=\"color: #c0c0c0; text-decoration-color: #c0c0c0\"></span>│\n",
              "│<span style=\"color: #008080; text-decoration-color: #008080\"> Perceptron                 </span>│<span style=\"color: #800080; text-decoration-color: #800080\"> 0.97754491017964… </span>│<span style=\"color: #008000; text-decoration-color: #008000\"> 0.97692546583850… </span>│<span style=\"color: #800000; text-decoration-color: #800000\"> 0.9768161404324825 </span>│<span style=\"color: #808000; text-decoration-color: #808000\"></span>│<span style=\"color: #c0c0c0; text-decoration-color: #c0c0c0\"></span>│\n",
              "│<span style=\"color: #008080; text-decoration-color: #008080\"> RandomForestClassifier     </span>│<span style=\"color: #800080; text-decoration-color: #800080\"> 0.96257485029940… </span>│<span style=\"color: #008000; text-decoration-color: #008000\"> 0.96051355426320… </span>│<span style=\"color: #800000; text-decoration-color: #800000\"> 0.9624462948504477 </span>│<span style=\"color: #808000; text-decoration-color: #808000\"></span>│<span style=\"color: #c0c0c0; text-decoration-color: #c0c0c0\"></span>│\n",
              "│<span style=\"color: #008080; text-decoration-color: #008080\"> RidgeClassifier            </span>│<span style=\"color: #800080; text-decoration-color: #800080\"> 0.97754491017964… </span>│<span style=\"color: #008000; text-decoration-color: #008000\"> 0.97692546583850… </span>│<span style=\"color: #800000; text-decoration-color: #800000\"> 0.9769176825464448 </span>│<span style=\"color: #808000; text-decoration-color: #808000\"></span>│<span style=\"color: #c0c0c0; text-decoration-color: #c0c0c0\"></span>│\n",
              "│<span style=\"color: #008080; text-decoration-color: #008080\"> SGDClassifier              </span>│<span style=\"color: #800080; text-decoration-color: #800080\"> 0.97005988023952… </span>│<span style=\"color: #008000; text-decoration-color: #008000\"> 0.96950078683739… </span>│<span style=\"color: #800000; text-decoration-color: #800000\"> 0.969787370271274  </span>│<span style=\"color: #808000; text-decoration-color: #808000\"></span>│<span style=\"color: #c0c0c0; text-decoration-color: #c0c0c0\"></span>│\n",
              "│<span style=\"color: #008080; text-decoration-color: #008080\"> SVC                        </span>│<span style=\"color: #800080; text-decoration-color: #800080\"> 0.97155688622754… </span>│<span style=\"color: #008000; text-decoration-color: #008000\"> 0.97037784679089… </span>│<span style=\"color: #800000; text-decoration-color: #800000\"> 0.9713021262026043 </span>│<span style=\"color: #808000; text-decoration-color: #808000\"></span>│<span style=\"color: #c0c0c0; text-decoration-color: #c0c0c0\"></span>│\n",
              "└────────────────────────────┴───────────────────┴───────────────────┴────────────────────┴┴┘\n",
              "</pre>\n"
            ]
          },
          "metadata": {}
        }
      ],
      "source": [
        "import pandas as pd\n",
        "from sklearn.model_selection import train_test_split\n",
        "from sklearn.feature_extraction.text import TfidfVectorizer\n",
        "from lazytext.supervised import LazyTextPredict\n",
        "import re\n",
        "import nltk\n",
        "\n",
        "# Load the dataset\n",
        "df = pd.read_csv(\"/content/bbc-text.csv\")\n",
        "df.dropna(inplace=True)\n",
        "\n",
        "# Download models required for text cleaning\n",
        "nltk.download('punkt')\n",
        "nltk.download('stopwords')\n",
        "nltk.download('wordnet')\n",
        "nltk.download('omw-1.4')\n",
        "\n",
        "# split the data into train set and test set\n",
        "df_train, df_test = train_test_split(df, test_size=0.3, random_state=13)\n",
        "\n",
        "# Tokenize the words\n",
        "df_train['clean_text'] = df_train['text'].apply(nltk.word_tokenize)\n",
        "df_test['clean_text'] = df_test['text'].apply(nltk.word_tokenize)\n",
        "\n",
        "# Remove stop words\n",
        "stop_words=set(nltk.corpus.stopwords.words(\"english\"))\n",
        "df_train['text_clean'] = df_train['clean_text'].apply(lambda x: [item for item in x if item not in stop_words])\n",
        "df_test['text_clean'] = df_test['clean_text'].apply(lambda x: [item for item in x if item not in stop_words])\n",
        "\n",
        "# Remove numbers, punctuation and special characters (only keep words)\n",
        "regex = '[a-z]+'\n",
        "df_train['text_clean'] = df_train['text_clean'].apply(lambda x: [item for item in x if re.match(regex, item)])\n",
        "df_test['text_clean'] = df_test['text_clean'].apply(lambda x: [item for item in x if re.match(regex, item)])\n",
        "\n",
        "# Lemmatization\n",
        "lem = nltk.stem.wordnet.WordNetLemmatizer()\n",
        "df_train['text_clean'] = df_train['text_clean'].apply(lambda x: [lem.lemmatize(item, pos='v') for item in x])\n",
        "df_test['text_clean'] = df_test['text_clean'].apply(lambda x: [lem.lemmatize(item, pos='v') for item in x])\n",
        "\n",
        "# Join the words again to form sentences\n",
        "df_train[\"clean_text\"] = df_train.text_clean.apply(lambda x: \" \".join(x))\n",
        "df_test[\"clean_text\"] = df_test.text_clean.apply(lambda x: \" \".join(x))\n",
        "\n",
        "# Tfidf vectorization\n",
        "vectorizer = TfidfVectorizer()\n",
        "\n",
        "x_train = vectorizer.fit_transform(df_train.clean_text)\n",
        "x_test = vectorizer.transform(df_test.clean_text)\n",
        "y_train = df_train.category.tolist()\n",
        "y_test = df_test.category.tolist()\n",
        "\n",
        "lazy_text = LazyTextPredict(\n",
        "    classification_type=\"multiclass\",\n",
        "    )\n",
        "models = lazy_text.fit(x_train, x_test, y_train, y_test)\n",
        "\n",
        " "
      ]
    },
    {
      "cell_type": "code",
      "source": [
        ""
      ],
      "metadata": {
        "id": "VaplMMOilG0t"
      },
      "execution_count": null,
      "outputs": []
    }
  ]
}